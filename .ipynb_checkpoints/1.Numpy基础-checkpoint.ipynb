{
 "cells": [
  {
   "cell_type": "code",
   "execution_count": 1,
   "metadata": {},
   "outputs": [],
   "source": [
    "import numpy as np"
   ]
  },
  {
   "cell_type": "code",
   "execution_count": 2,
   "metadata": {},
   "outputs": [
    {
     "data": {
      "text/plain": [
       "\u001b[0;31mCall signature:\u001b[0m  \u001b[0mnp\u001b[0m\u001b[0;34m.\u001b[0m\u001b[0mabs\u001b[0m\u001b[0;34m(\u001b[0m\u001b[0;34m*\u001b[0m\u001b[0margs\u001b[0m\u001b[0;34m,\u001b[0m \u001b[0;34m**\u001b[0m\u001b[0mkwargs\u001b[0m\u001b[0;34m)\u001b[0m\u001b[0;34m\u001b[0m\u001b[0;34m\u001b[0m\u001b[0m\n",
       "\u001b[0;31mType:\u001b[0m            ufunc\n",
       "\u001b[0;31mString form:\u001b[0m     <ufunc 'absolute'>\n",
       "\u001b[0;31mFile:\u001b[0m            ~/anaconda3/envs/env_1/lib/python3.7/site-packages/numpy/__init__.py\n",
       "\u001b[0;31mDocstring:\u001b[0m      \n",
       "absolute(x, /, out=None, *, where=True, casting='same_kind', order='K', dtype=None, subok=True[, signature, extobj])\n",
       "\n",
       "Calculate the absolute value element-wise.\n",
       "\n",
       "``np.abs`` is a shorthand for this function.\n",
       "\n",
       "Parameters\n",
       "----------\n",
       "x : array_like\n",
       "    Input array.\n",
       "out : ndarray, None, or tuple of ndarray and None, optional\n",
       "    A location into which the result is stored. If provided, it must have\n",
       "    a shape that the inputs broadcast to. If not provided or None,\n",
       "    a freshly-allocated array is returned. A tuple (possible only as a\n",
       "    keyword argument) must have length equal to the number of outputs.\n",
       "where : array_like, optional\n",
       "    This condition is broadcast over the input. At locations where the\n",
       "    condition is True, the `out` array will be set to the ufunc result.\n",
       "    Elsewhere, the `out` array will retain its original value.\n",
       "    Note that if an uninitialized `out` array is created via the default\n",
       "    ``out=None``, locations within it where the condition is False will\n",
       "    remain uninitialized.\n",
       "**kwargs\n",
       "    For other keyword-only arguments, see the\n",
       "    :ref:`ufunc docs <ufuncs.kwargs>`.\n",
       "\n",
       "Returns\n",
       "-------\n",
       "absolute : ndarray\n",
       "    An ndarray containing the absolute value of\n",
       "    each element in `x`.  For complex input, ``a + ib``, the\n",
       "    absolute value is :math:`\\sqrt{ a^2 + b^2 }`.\n",
       "    This is a scalar if `x` is a scalar.\n",
       "\n",
       "Examples\n",
       "--------\n",
       ">>> x = np.array([-1.2, 1.2])\n",
       ">>> np.absolute(x)\n",
       "array([ 1.2,  1.2])\n",
       ">>> np.absolute(1.2 + 1j)\n",
       "1.5620499351813308\n",
       "\n",
       "Plot the function over ``[-10, 10]``:\n",
       "\n",
       ">>> import matplotlib.pyplot as plt\n",
       "\n",
       ">>> x = np.linspace(start=-10, stop=10, num=101)\n",
       ">>> plt.plot(x, np.absolute(x))\n",
       ">>> plt.show()\n",
       "\n",
       "Plot the function over the complex plane:\n",
       "\n",
       ">>> xx = x + 1j * x[:, np.newaxis]\n",
       ">>> plt.imshow(np.abs(xx), extent=[-10, 10, -10, 10], cmap='gray')\n",
       ">>> plt.show()\n",
       "\u001b[0;31mClass docstring:\u001b[0m\n",
       "Functions that operate element by element on whole arrays.\n",
       "\n",
       "To see the documentation for a specific ufunc, use `info`.  For\n",
       "example, ``np.info(np.sin)``.  Because ufuncs are written in C\n",
       "(for speed) and linked into Python with NumPy's ufunc facility,\n",
       "Python's help() function finds this page whenever help() is called\n",
       "on a ufunc.\n",
       "\n",
       "A detailed explanation of ufuncs can be found in the docs for :ref:`ufuncs`.\n",
       "\n",
       "Calling ufuncs:\n",
       "===============\n",
       "\n",
       "op(*x[, out], where=True, **kwargs)\n",
       "Apply `op` to the arguments `*x` elementwise, broadcasting the arguments.\n",
       "\n",
       "The broadcasting rules are:\n",
       "\n",
       "* Dimensions of length 1 may be prepended to either array.\n",
       "* Arrays may be repeated along dimensions of length 1.\n",
       "\n",
       "Parameters\n",
       "----------\n",
       "*x : array_like\n",
       "    Input arrays.\n",
       "out : ndarray, None, or tuple of ndarray and None, optional\n",
       "    Alternate array object(s) in which to put the result; if provided, it\n",
       "    must have a shape that the inputs broadcast to. A tuple of arrays\n",
       "    (possible only as a keyword argument) must have length equal to the\n",
       "    number of outputs; use None for uninitialized outputs to be\n",
       "    allocated by the ufunc.\n",
       "where : array_like, optional\n",
       "    This condition is broadcast over the input. At locations where the\n",
       "    condition is True, the `out` array will be set to the ufunc result.\n",
       "    Elsewhere, the `out` array will retain its original value.\n",
       "    Note that if an uninitialized `out` array is created via the default\n",
       "    ``out=None``, locations within it where the condition is False will\n",
       "    remain uninitialized.\n",
       "**kwargs\n",
       "    For other keyword-only arguments, see the :ref:`ufunc docs <ufuncs.kwargs>`.\n",
       "\n",
       "Returns\n",
       "-------\n",
       "r : ndarray or tuple of ndarray\n",
       "    `r` will have the shape that the arrays in `x` broadcast to; if `out` is\n",
       "    provided, it will be returned. If not, `r` will be allocated and\n",
       "    may contain uninitialized values. If the function has more than one\n",
       "    output, then the result will be a tuple of arrays.\n"
      ]
     },
     "metadata": {},
     "output_type": "display_data"
    }
   ],
   "source": [
    "# 查看帮助信息\n",
    "np.abs?"
   ]
  },
  {
   "cell_type": "code",
   "execution_count": 3,
   "metadata": {},
   "outputs": [
    {
     "name": "stdout",
     "output_type": "stream",
     "text": [
      "[3.14 2.17 0.   1.   2.  ]\n"
     ]
    }
   ],
   "source": [
    "# 生成ndarray的几种方式\n",
    "# 从已有数据中穿件数组\n",
    "# 将列表转换成ndarray\n",
    "lst1 = [3.14, 2.17, 0, 1, 2]\n",
    "nd1 = np.array(lst1)\n",
    "print(nd1)"
   ]
  },
  {
   "cell_type": "code",
   "execution_count": 4,
   "metadata": {},
   "outputs": [
    {
     "name": "stdout",
     "output_type": "stream",
     "text": [
      "<class 'numpy.ndarray'>\n"
     ]
    }
   ],
   "source": [
    "print(type(nd1))"
   ]
  },
  {
   "cell_type": "code",
   "execution_count": 5,
   "metadata": {},
   "outputs": [
    {
     "name": "stdout",
     "output_type": "stream",
     "text": [
      "[[3.14 2.17 0.   1.   2.  ]\n",
      " [1.   2.   3.   4.   5.  ]]\n"
     ]
    }
   ],
   "source": [
    "# 嵌套列表转换成多维ndarray\n",
    "lst2 = [[3.14, 2.17, 0, 1, 2], [1, 2, 3, 4, 5]]\n",
    "nd2 = np.array(lst2)\n",
    "print(nd2)"
   ]
  },
  {
   "cell_type": "code",
   "execution_count": 6,
   "metadata": {},
   "outputs": [
    {
     "name": "stdout",
     "output_type": "stream",
     "text": [
      "<class 'numpy.ndarray'>\n"
     ]
    }
   ],
   "source": [
    "print(type(nd2))"
   ]
  },
  {
   "cell_type": "code",
   "execution_count": 7,
   "metadata": {},
   "outputs": [
    {
     "name": "stdout",
     "output_type": "stream",
     "text": [
      "[[0.60052745 0.67034042 0.48675732]\n",
      " [0.76041207 0.88103934 0.51326701]\n",
      " [0.21730619 0.56627081 0.64625249]]\n"
     ]
    }
   ],
   "source": [
    "# 利用random模块生成数组\n",
    "nd3 = np.random.random([3,3])\n",
    "print(nd3)"
   ]
  },
  {
   "cell_type": "code",
   "execution_count": 8,
   "metadata": {},
   "outputs": [
    {
     "name": "stdout",
     "output_type": "stream",
     "text": [
      "nd3的形状为:  (3, 3)\n"
     ]
    }
   ],
   "source": [
    "print('nd3的形状为: ', nd3.shape)"
   ]
  },
  {
   "cell_type": "code",
   "execution_count": 9,
   "metadata": {},
   "outputs": [
    {
     "name": "stdout",
     "output_type": "stream",
     "text": [
      "[[-1.0856306   0.99734545  0.2829785 ]\n",
      " [-1.50629471 -0.57860025  1.65143654]]\n",
      "随机打乱后数据：\n",
      "[[-1.50629471 -0.57860025  1.65143654]\n",
      " [-1.0856306   0.99734545  0.2829785 ]]\n",
      "<class 'numpy.ndarray'>\n"
     ]
    }
   ],
   "source": [
    "# 为了每次生成同一份数据，可以指定一个随机种子，使用shuffle函数打乱生成的随机数\n",
    "np.random.seed(123)\n",
    "nd4 = np.random.randn(2,3)\n",
    "print(nd4)\n",
    "np.random.shuffle(nd4)\n",
    "print(\"随机打乱后数据：\")\n",
    "print(nd4)\n",
    "print(type(nd4))"
   ]
  },
  {
   "cell_type": "code",
   "execution_count": 10,
   "metadata": {},
   "outputs": [
    {
     "name": "stdout",
     "output_type": "stream",
     "text": [
      "[[0. 0. 0.]\n",
      " [0. 0. 0.]\n",
      " [0. 0. 0.]]\n",
      "[[0. 0. 0.]\n",
      " [0. 0. 0.]\n",
      " [0. 0. 0.]]\n",
      "[[1. 1. 1.]\n",
      " [1. 1. 1.]\n",
      " [1. 1. 1.]]\n",
      "[[1. 0. 0.]\n",
      " [0. 1. 0.]\n",
      " [0. 0. 1.]]\n",
      "[[1 0 0]\n",
      " [0 2 0]\n",
      " [0 0 3]]\n"
     ]
    }
   ],
   "source": [
    "# 1.1.3创建特定形状的多维数组\n",
    "# 生成全是0的3*3矩阵\n",
    "nd5 = np.zeros([3,3])\n",
    "# 生成与nd5形状一样的全0矩阵\n",
    "nd5_1 = np.zeros_like(nd5)\n",
    "# 生成全是1的3*3矩阵\n",
    "nd6 = np.ones([3,3])\n",
    "# 生成3阶的单位矩阵\n",
    "nd7 = np.eye(3)\n",
    "# 生成3阶对角矩阵\n",
    "nd8 = np.diag([1,2,3])\n",
    "print(nd5)\n",
    "print(nd5_1)\n",
    "print(nd6)\n",
    "print(nd7)\n",
    "print(nd8)"
   ]
  },
  {
   "cell_type": "code",
   "execution_count": 11,
   "metadata": {},
   "outputs": [
    {
     "name": "stdout",
     "output_type": "stream",
     "text": [
      "[[0.41092437 0.5796943  0.13995076 0.40101756 0.62731701]\n",
      " [0.32415089 0.24475928 0.69475518 0.5939024  0.63179202]\n",
      " [0.44025718 0.08372648 0.71233018 0.42786349 0.2977805 ]\n",
      " [0.49208478 0.74029639 0.35772892 0.41720995 0.65472131]\n",
      " [0.37380143 0.23451288 0.98799529 0.76599595 0.77700444]]\n"
     ]
    }
   ],
   "source": [
    "# 将数据暂时保存，以备使用\n",
    "nd9 = np.random.random([5,5])\n",
    "np.savetxt(X=nd9, fname='./test1.txt')\n",
    "nd10 = np.loadtxt('./test1.txt')\n",
    "print(nd10)"
   ]
  },
  {
   "cell_type": "code",
   "execution_count": 12,
   "metadata": {},
   "outputs": [
    {
     "name": "stdout",
     "output_type": "stream",
     "text": [
      "[0 1 2 3 4 5 6 7 8 9]\n",
      "[0 1 2 3 4 5 6 7 8 9]\n",
      "[1.  1.5 2.  2.5 3.  3.5]\n",
      "[9 8 7 6 5 4 3 2 1 0]\n"
     ]
    }
   ],
   "source": [
    "# 1.1.4利用arrange， linespace函数生成数组\n",
    "print(np.arange(10))\n",
    "print(np.arange(0,10))\n",
    "print(np.arange(1,4,0.5))\n",
    "print(np.arange(9,-1,-1))"
   ]
  },
  {
   "cell_type": "code",
   "execution_count": 13,
   "metadata": {},
   "outputs": [
    {
     "name": "stdout",
     "output_type": "stream",
     "text": [
      "[0.         0.11111111 0.22222222 0.33333333 0.44444444 0.55555556\n",
      " 0.66666667 0.77777778 0.88888889 1.        ]\n"
     ]
    }
   ],
   "source": [
    "print(np.linspace(0,1,10))\n",
    "# (1-0)/9=0.1111111"
   ]
  },
  {
   "cell_type": "code",
   "execution_count": 14,
   "metadata": {},
   "outputs": [
    {
     "name": "stdout",
     "output_type": "stream",
     "text": [
      "[0.1 0.2 0.3 0.4 0.5 0.6 0.7 0.8 0.9 1. ]\n"
     ]
    }
   ],
   "source": [
    "print(np.linspace(0.1,1,10))"
   ]
  },
  {
   "cell_type": "code",
   "execution_count": 15,
   "metadata": {},
   "outputs": [
    {
     "data": {
      "text/plain": [
       "array([[ 1,  2],\n",
       "       [ 6,  7],\n",
       "       [11, 12],\n",
       "       [16, 17],\n",
       "       [21, 22]])"
      ]
     },
     "execution_count": 15,
     "metadata": {},
     "output_type": "execute_result"
    }
   ],
   "source": [
    "# 1.2获取元素\n",
    "np.random.seed(2019)\n",
    "nd11 = np.random.random([10])\n",
    "# 获取第4个位置的元素\n",
    "nd11[3]\n",
    "#截取一段数据\n",
    "nd11[3:6]\n",
    "#截取固定间隔数据\n",
    "nd11[1:6:2]\n",
    "#倒序取数\n",
    "nd11[::-2]\n",
    "# 截取一个多维数组的一个区域内数据\n",
    "nd12 = np.arange(25).reshape([5,5])\n",
    "nd12[1:3,1:3]\n",
    "# 截取一个多维数组中，数值在一个值域之内的数据\n",
    "nd12[(nd12>3)&(nd12)<10]\n",
    "# 截取多维数组中，指定的行，如读取第2,3行\n",
    "nd12[[1,2]] # 或者nd12【1:3，：】\n",
    "# 截取多维数组中，指定的列，如读取第2,3列\n",
    "nd12[:,1:3]"
   ]
  },
  {
   "cell_type": "code",
   "execution_count": 18,
   "metadata": {},
   "outputs": [
    {
     "name": "stdout",
     "output_type": "stream",
     "text": [
      "随机可重复抽取\n",
      " [[ 3. 13.  5. 10.]\n",
      " [10. 11.  1.  8.]\n",
      " [20.  1. 24.  3.]]\n",
      "随机但不重复抽取 [[21.  3. 20. 11.]\n",
      " [22.  8.  7. 18.]\n",
      " [ 6. 24.  5. 16.]]\n",
      "随机但按照指定概率抽取 [[17. 17.  8. 23.]\n",
      " [19. 11. 18. 15.]\n",
      " [11.  7.  8. 17.]]\n"
     ]
    }
   ],
   "source": [
    "# 通过random.choice函数从指定的样本中随机抽取数据\n",
    "from numpy import random as nr\n",
    "a = np.arange(1,25,dtype=float)\n",
    "c1 = nr.choice(a, size=(3,4)) # size指定输出数组形状\n",
    "c2 = nr.choice(a, size=(3,4), replace=False) # replace缺省为True,即可重复抽取\n",
    "# 参数p指定每个元素对应的抽取概率，缺省为每个元素被抽取的概率相同\n",
    "c3 = nr.choice(a, size=(3,4), p=a/np.sum(a))\n",
    "print(\"随机可重复抽取\\n\", c1)\n",
    "print(\"随机但不重复抽取\", c2)\n",
    "print(\"随机但按照指定概率抽取\", c3)"
   ]
  },
  {
   "cell_type": "code",
   "execution_count": 19,
   "metadata": {},
   "outputs": [
    {
     "data": {
      "text/plain": [
       "array([[ 2,  0],\n",
       "       [-3, 16]])"
      ]
     },
     "execution_count": 19,
     "metadata": {},
     "output_type": "execute_result"
    }
   ],
   "source": [
    "# 1.3Numpy的算术运算\n",
    "# 1.3.1对应元素相乘\n",
    "A = np.array([[1,2],[-1,4]])\n",
    "B = np.array([[2,0],[3,4]])\n",
    "A*B"
   ]
  },
  {
   "cell_type": "code",
   "execution_count": 20,
   "metadata": {},
   "outputs": [
    {
     "data": {
      "text/plain": [
       "array([[ 2,  0],\n",
       "       [-3, 16]])"
      ]
     },
     "execution_count": 20,
     "metadata": {},
     "output_type": "execute_result"
    }
   ],
   "source": [
    "np.multiply(A,B) # 两者结果相同"
   ]
  },
  {
   "cell_type": "code",
   "execution_count": 21,
   "metadata": {},
   "outputs": [
    {
     "name": "stdout",
     "output_type": "stream",
     "text": [
      "[[ 2.  4.]\n",
      " [-2.  8.]]\n",
      "[[ 0.5  1. ]\n",
      " [-0.5  2. ]]\n"
     ]
    }
   ],
   "source": [
    "print(A*2.0)\n",
    "print(A/2.0)"
   ]
  },
  {
   "cell_type": "code",
   "execution_count": 22,
   "metadata": {},
   "outputs": [
    {
     "name": "stdout",
     "output_type": "stream",
     "text": [
      "输入参数X的形状： (2, 3)\n",
      "激活函数softmoid输出形状： (2, 3)\n",
      "激活函数relu输出形状：  (2, 3)\n",
      "激活函数softmax输出形状： (2, 3)\n"
     ]
    }
   ],
   "source": [
    "# 数组通过一些激活函数后，输出与输入形状一致\n",
    "X = np.random.rand(2,3)\n",
    "def softmoid(x):\n",
    "    return 1/(1+np.exp(-x))\n",
    "def relu(x):\n",
    "    return np.maximum(0,x)\n",
    "def softmax(x):\n",
    "    return np.exp(x)/np.sum(np.exp(x))\n",
    "print(\"输入参数X的形状：\", X.shape)\n",
    "print(\"激活函数softmoid输出形状：\", softmoid(X).shape)\n",
    "print(\"激活函数relu输出形状： \",relu(X).shape)\n",
    "print(\"激活函数softmax输出形状：\",softmax(X).shape)"
   ]
  },
  {
   "cell_type": "code",
   "execution_count": 23,
   "metadata": {},
   "outputs": [
    {
     "name": "stdout",
     "output_type": "stream",
     "text": [
      "[[21 24 27]\n",
      " [47 54 61]]\n"
     ]
    }
   ],
   "source": [
    "# 1.3.2点积运算\n",
    "X1 = np.array([[1,2],[3,4]])\n",
    "X2 = np.array([[5,6,7],[8,9,10]])\n",
    "X3 = np.dot(X1,X2)\n",
    "print(X3)"
   ]
  },
  {
   "cell_type": "code",
   "execution_count": 26,
   "metadata": {},
   "outputs": [
    {
     "name": "stdout",
     "output_type": "stream",
     "text": [
      "[0 1 2 3 4 5 6 7 8 9]\n",
      "[[0 1 2 3 4]\n",
      " [5 6 7 8 9]]\n",
      "[[0 1]\n",
      " [2 3]\n",
      " [4 5]\n",
      " [6 7]\n",
      " [8 9]]\n",
      "[[0 1 2 3 4]\n",
      " [5 6 7 8 9]]\n",
      "[0 1 2 3 4 5 6 7 8 9]\n"
     ]
    }
   ],
   "source": [
    "# 1.4数组变形\n",
    "# 1.4.1更改数组的形状\n",
    "# reshape不改变向量本身\n",
    "arr = np.arange(10)\n",
    "print(arr)\n",
    "# 将向量arr维度变换成2行5列\n",
    "print(arr.reshape(2,5))\n",
    "# 指定维度时可以只指定行数或者列数，其他用-1代替\n",
    "print(arr.reshape(5,-1))\n",
    "print(arr.reshape(-1,5))\n",
    "print(arr)\n",
    "# reshape函数不支持指定行数或列数，所以-1在这里是必要的。\n",
    "# 且所指定的行数或列数一定要能被整除，\n",
    "# 例如上面代码如果修改为arr.reshape(3,-1)即为错误的"
   ]
  },
  {
   "cell_type": "code",
   "execution_count": 25,
   "metadata": {},
   "outputs": [
    {
     "name": "stdout",
     "output_type": "stream",
     "text": [
      "[0 1 2 3 4 5 6 7 8 9]\n",
      "[[0 1 2 3 4]\n",
      " [5 6 7 8 9]]\n"
     ]
    }
   ],
   "source": [
    "# resize修改向量本身\n",
    "arr = np.arange(10)\n",
    "print(arr)\n",
    "arr.resize(2,5)\n",
    "print(arr)"
   ]
  },
  {
   "cell_type": "code",
   "execution_count": 27,
   "metadata": {},
   "outputs": [
    {
     "name": "stdout",
     "output_type": "stream",
     "text": [
      "[[ 0  1  2  3]\n",
      " [ 4  5  6  7]\n",
      " [ 8  9 10 11]]\n",
      "[[ 0  4  8]\n",
      " [ 1  5  9]\n",
      " [ 2  6 10]\n",
      " [ 3  7 11]]\n"
     ]
    }
   ],
   "source": [
    "# 3.向量转置\n",
    "arr = np.arange(12).reshape(3,4)\n",
    "print(arr)\n",
    "print(arr.T)"
   ]
  },
  {
   "cell_type": "code",
   "execution_count": 30,
   "metadata": {},
   "outputs": [
    {
     "name": "stdout",
     "output_type": "stream",
     "text": [
      "[[0 1 2]\n",
      " [3 4 5]]\n",
      "按照列优先，展平\n",
      "[0 3 1 4 2 5]\n",
      "按照行优先，展平\n",
      "[0 1 2 3 4 5]\n"
     ]
    }
   ],
   "source": [
    "# 4.ravel向量展平\n",
    "arr = np.arange(6).reshape(2,-1)\n",
    "print(arr)\n",
    "# 按照列优先，展平\n",
    "print(\"按照列优先，展平\")\n",
    "print(arr.ravel('F'))\n",
    "# 按照行优先，展平\n",
    "print(\"按照行优先，展平\")\n",
    "print(arr.ravel())"
   ]
  },
  {
   "cell_type": "code",
   "execution_count": 31,
   "metadata": {},
   "outputs": [
    {
     "name": "stdout",
     "output_type": "stream",
     "text": [
      "[[6. 7. 1. 3.]\n",
      " [0. 8. 5. 1.]\n",
      " [4. 9. 1. 9.]]\n",
      "[6. 7. 1. 3. 0. 8. 5. 1. 4. 9. 1. 9.]\n"
     ]
    }
   ],
   "source": [
    "# 5.flatten\n",
    "# 把矩阵转换为向量，这种需求经常出现在卷积网络与全连接层之间\n",
    "a = np.floor(10*np.random.random((3,4)))\n",
    "print(a)\n",
    "print(a.flatten())"
   ]
  },
  {
   "cell_type": "code",
   "execution_count": 32,
   "metadata": {},
   "outputs": [
    {
     "name": "stdout",
     "output_type": "stream",
     "text": [
      "(3, 1)\n",
      "(3,)\n",
      "[[[[0]\n",
      "   [1]]]\n",
      "\n",
      "\n",
      " [[[2]\n",
      "   [3]]]\n",
      "\n",
      "\n",
      " [[[4]\n",
      "   [5]]]]\n",
      "(3, 1, 2, 1)\n",
      "(3, 2)\n"
     ]
    }
   ],
   "source": [
    "# 6.squeeze\n",
    "# 这是一个主要用来降维的函数，把矩阵中含1的维度去掉。\n",
    "# 在PyTorch中还有一种与之相反的操作——torch.unsqueeze，这个后面将介绍\n",
    "arr = np.arange(3).reshape(3,1)\n",
    "print(arr.shape)\n",
    "print(arr.squeeze().shape)\n",
    "arr1 = np.arange(6).reshape(3,1,2,1)\n",
    "print(arr1)\n",
    "print(arr1.shape)\n",
    "print(arr1.squeeze().shape)"
   ]
  },
  {
   "cell_type": "code",
   "execution_count": 33,
   "metadata": {},
   "outputs": [
    {
     "name": "stdout",
     "output_type": "stream",
     "text": [
      "(2, 3, 4)\n",
      "(3, 4, 2)\n"
     ]
    }
   ],
   "source": [
    "# 7.transpose\n",
    "# 对高维矩阵进行轴对换，这个在深度学习中经常使用，\n",
    "# 比如把图片中表示颜色顺序的RGB改为GBR\n",
    "arr2 = np.arange(24).reshape(2,3,4)\n",
    "print(arr2.shape)\n",
    "print(arr2.transpose(1,2,0).shape) # (3,4,2)"
   ]
  },
  {
   "cell_type": "code",
   "execution_count": 1,
   "metadata": {},
   "outputs": [
    {
     "name": "stdout",
     "output_type": "stream",
     "text": [
      "[1 2 3 4 5 6]\n"
     ]
    }
   ],
   "source": [
    "# 1.4.2 合并数组\n",
    "# 1）append、concatenate以及stack都有一个axis参数，用于控制数组的合并方式是按行还是按列。\n",
    "# 2）对于append和concatenate，待合并的数组必须有相同的行数或列数（满足一个即可）。\n",
    "# 3）stack、hstack、dstack，要求待合并的数组必须具有相同的形状（shape）\n",
    "import numpy as np\n",
    "a = np.array([1,2,3])\n",
    "b = np.array([4,5,6])\n",
    "c = np.append(a,b)\n",
    "print(c)"
   ]
  },
  {
   "cell_type": "code",
   "execution_count": 3,
   "metadata": {},
   "outputs": [
    {
     "name": "stdout",
     "output_type": "stream",
     "text": [
      "按照行合并后结果\n",
      "[[0 1]\n",
      " [2 3]\n",
      " [0 1]\n",
      " [2 3]]\n",
      "合并后数据维度 (4, 2)\n",
      "按列合并后结果\n",
      "[[0 1 0 1]\n",
      " [2 3 2 3]]\n",
      "合并后数据维度 (2, 4)\n"
     ]
    }
   ],
   "source": [
    "# 合并多维数组\n",
    "a = np.arange(4).reshape(2,2)\n",
    "b = np.arange(4).reshape(2,2)\n",
    "# 按照行合并\n",
    "c = np.append(a,b,axis=0)\n",
    "print('按照行合并后结果')\n",
    "print(c)\n",
    "print('合并后数据维度',c.shape)\n",
    "# 按照列合并\n",
    "d = np.append(a,b,axis=1)\n",
    "print('按列合并后结果')\n",
    "print(d)\n",
    "print('合并后数据维度',d.shape)"
   ]
  },
  {
   "cell_type": "code",
   "execution_count": 6,
   "metadata": {},
   "outputs": [
    {
     "name": "stdout",
     "output_type": "stream",
     "text": [
      "[[1 2]\n",
      " [3 4]\n",
      " [5 6]]\n",
      "[[1 2 5]\n",
      " [3 4 6]]\n"
     ]
    }
   ],
   "source": [
    "# 2.concatenate\n",
    "# 沿着指定轴连接数组或者矩阵\n",
    "a = np.array([[1,2],[3,4]])\n",
    "b = np.array([[5,6]])\n",
    "c = np.concatenate((a,b), axis=0)\n",
    "print(c)\n",
    "d = np.concatenate((a,b.T), axis=1)\n",
    "print(d)"
   ]
  },
  {
   "cell_type": "code",
   "execution_count": 7,
   "metadata": {},
   "outputs": [
    {
     "name": "stdout",
     "output_type": "stream",
     "text": [
      "[[[1 2]\n",
      "  [3 4]]\n",
      "\n",
      " [[5 6]\n",
      "  [7 8]]]\n"
     ]
    }
   ],
   "source": [
    "# 3.stack\n",
    "# 沿着指定轴堆叠数组或者矩阵\n",
    "a = np.array([[1,2],[3,4]])\n",
    "b = np.array([[5,6],[7,8]])\n",
    "print(np.stack((a,b),axis=0))"
   ]
  },
  {
   "cell_type": "code",
   "execution_count": 8,
   "metadata": {},
   "outputs": [
    {
     "name": "stdout",
     "output_type": "stream",
     "text": [
      "(10000, 2, 3)\n"
     ]
    }
   ],
   "source": [
    "# 1.5批量处理\n",
    "# 生成10000个形状为2*3的矩阵\n",
    "data_train = np.random.randn(10000,2,3)\n",
    "# 这是一个三维矩阵，第一个维度时样本数，后两个是数据形状\n",
    "print(data_train.shape)"
   ]
  },
  {
   "cell_type": "code",
   "execution_count": 9,
   "metadata": {},
   "outputs": [
    {
     "name": "stdout",
     "output_type": "stream",
     "text": [
      "第0批次，该批次的数据之和：23.048515566678915\n",
      "第100批次，该批次的数据之和：-2.8682814843931475\n",
      "第200批次，该批次的数据之和：-9.026440361075188\n",
      "第300批次，该批次的数据之和：-48.3513723075106\n",
      "第400批次，该批次的数据之和：-11.249855965861553\n",
      "第500批次，该批次的数据之和：5.720719974282943\n",
      "第600批次，该批次的数据之和：-25.273099669595112\n",
      "第700批次，该批次的数据之和：4.62076127420206\n",
      "第800批次，该批次的数据之和：-47.79066176134062\n",
      "第900批次，该批次的数据之和：24.680729045204036\n",
      "第1000批次，该批次的数据之和：21.317173493961256\n",
      "第1100批次，该批次的数据之和：-2.4534082909545436\n",
      "第1200批次，该批次的数据之和：-13.072628673594755\n",
      "第1300批次，该批次的数据之和：-35.31218480656375\n",
      "第1400批次，该批次的数据之和：-55.3619645104596\n",
      "第1500批次，该批次的数据之和：-24.190649898147907\n",
      "第1600批次，该批次的数据之和：-47.60795860002682\n",
      "第1700批次，该批次的数据之和：5.543187471560806\n",
      "第1800批次，该批次的数据之和：-9.63530481385293\n",
      "第1900批次，该批次的数据之和：-11.179396569977637\n",
      "第2000批次，该批次的数据之和：7.534882057082253\n",
      "第2100批次，该批次的数据之和：16.038955522616067\n",
      "第2200批次，该批次的数据之和：20.888199250962646\n",
      "第2300批次，该批次的数据之和：-13.682475059747478\n",
      "第2400批次，该批次的数据之和：26.794064174746968\n",
      "第2500批次，该批次的数据之和：6.562926995752552\n",
      "第2600批次，该批次的数据之和：-10.135467932661783\n",
      "第2700批次，该批次的数据之和：26.08548066767558\n",
      "第2800批次，该批次的数据之和：-26.841026563686647\n",
      "第2900批次，该批次的数据之和：-19.714213289596263\n",
      "第3000批次，该批次的数据之和：-11.3483047472199\n",
      "第3100批次，该批次的数据之和：-49.63215792838288\n",
      "第3200批次，该批次的数据之和：4.238228952964757\n",
      "第3300批次，该批次的数据之和：36.8526023971293\n",
      "第3400批次，该批次的数据之和：19.804378646229836\n",
      "第3500批次，该批次的数据之和：-5.893192230809782\n",
      "第3600批次，该批次的数据之和：-11.195611665215095\n",
      "第3700批次，该批次的数据之和：17.145872963929012\n",
      "第3800批次，该批次的数据之和：-7.96942767603025\n",
      "第3900批次，该批次的数据之和：-9.05476475198047\n",
      "第4000批次，该批次的数据之和：0.21658439046771827\n",
      "第4100批次，该批次的数据之和：33.321265039970974\n",
      "第4200批次，该批次的数据之和：31.273280543807523\n",
      "第4300批次，该批次的数据之和：5.6913113454918935\n",
      "第4400批次，该批次的数据之和：16.458407127293793\n",
      "第4500批次，该批次的数据之和：22.758543293899944\n",
      "第4600批次，该批次的数据之和：-25.732807109743167\n",
      "第4700批次，该批次的数据之和：6.915469809678695\n",
      "第4800批次，该批次的数据之和：1.8505262530136193\n",
      "第4900批次，该批次的数据之和：11.422929701599557\n",
      "第5000批次，该批次的数据之和：-26.603515072637244\n",
      "第5100批次，该批次的数据之和：-7.553902785611307\n",
      "第5200批次，该批次的数据之和：18.62105040778306\n",
      "第5300批次，该批次的数据之和：25.329967859356696\n",
      "第5400批次，该批次的数据之和：3.7463887196139263\n",
      "第5500批次，该批次的数据之和：15.93072238602482\n",
      "第5600批次，该批次的数据之和：-11.153566524017338\n",
      "第5700批次，该批次的数据之和：-21.74110501299858\n",
      "第5800批次，该批次的数据之和：-33.20657892161507\n",
      "第5900批次，该批次的数据之和：15.594310388959979\n",
      "第6000批次，该批次的数据之和：-0.19678580303637805\n",
      "第6100批次，该批次的数据之和：29.64358248371393\n",
      "第6200批次，该批次的数据之和：-6.617266344593364\n",
      "第6300批次，该批次的数据之和：-7.459403512565462\n",
      "第6400批次，该批次的数据之和：-3.267906007643802\n",
      "第6500批次，该批次的数据之和：10.361662360778542\n",
      "第6600批次，该批次的数据之和：-21.148760444592494\n",
      "第6700批次，该批次的数据之和：-9.551807816200444\n",
      "第6800批次，该批次的数据之和：30.49870458356233\n",
      "第6900批次，该批次的数据之和：10.911392036574005\n",
      "第7000批次，该批次的数据之和：39.054087417596634\n",
      "第7100批次，该批次的数据之和：6.342294171076002\n",
      "第7200批次，该批次的数据之和：9.115615294462906\n",
      "第7300批次，该批次的数据之和：11.499920143934476\n",
      "第7400批次，该批次的数据之和：6.6956949756816755\n",
      "第7500批次，该批次的数据之和：13.674159997420594\n",
      "第7600批次，该批次的数据之和：8.03681546679336\n",
      "第7700批次，该批次的数据之和：21.85638875318215\n",
      "第7800批次，该批次的数据之和：-5.600063416351409\n",
      "第7900批次，该批次的数据之和：42.45772041294497\n",
      "第8000批次，该批次的数据之和：-35.93730025369314\n",
      "第8100批次，该批次的数据之和：6.310214443591513\n",
      "第8200批次，该批次的数据之和：-13.470310941076626\n",
      "第8300批次，该批次的数据之和：-2.362989359445379\n",
      "第8400批次，该批次的数据之和：36.00266623181793\n",
      "第8500批次，该批次的数据之和：38.809322596786245\n",
      "第8600批次，该批次的数据之和：-27.02872044290943\n",
      "第8700批次，该批次的数据之和：-43.77413423463531\n",
      "第8800批次，该批次的数据之和：-48.668139176667474\n",
      "第8900批次，该批次的数据之和：-3.9280989501891455\n",
      "第9000批次，该批次的数据之和：-2.3736605826342245\n",
      "第9100批次，该批次的数据之和：2.1504222038803302\n",
      "第9200批次，该批次的数据之和：-14.375797075388375\n",
      "第9300批次，该批次的数据之和：-23.477455718647267\n",
      "第9400批次，该批次的数据之和：14.034771226045262\n",
      "第9500批次，该批次的数据之和：13.035628994697944\n",
      "第9600批次，该批次的数据之和：31.11940678938459\n",
      "第9700批次，该批次的数据之和：10.160416757091685\n",
      "第9800批次，该批次的数据之和：19.175610140976534\n",
      "第9900批次，该批次的数据之和：-24.746739469727107\n"
     ]
    }
   ],
   "source": [
    "# 打乱这10000条数据\n",
    "np.random.shuffle(data_train)\n",
    "# 定义批量大小\n",
    "batch_size = 100\n",
    "# 进行批处理\n",
    "for i in range(0, len(data_train), batch_size):\n",
    "    x_batch_sum = np.sum(data_train[i:i+batch_size])\n",
    "    print(\"第{}批次，该批次的数据之和：{}\".format(i,x_batch_sum))"
   ]
  },
  {
   "cell_type": "code",
   "execution_count": 12,
   "metadata": {},
   "outputs": [
    {
     "name": "stdout",
     "output_type": "stream",
     "text": [
      "math.sin: 0.0006140000000005585\n",
      "numpy.sin: 0.00024499999999960664\n"
     ]
    },
    {
     "name": "stderr",
     "output_type": "stream",
     "text": [
      "/root/anaconda3/envs/env_1/lib/python3.7/site-packages/ipykernel_launcher.py:8: DeprecationWarning: time.clock has been deprecated in Python 3.3 and will be removed from Python 3.8: use time.perf_counter or time.process_time instead\n",
      "  \n",
      "/root/anaconda3/envs/env_1/lib/python3.7/site-packages/ipykernel_launcher.py:11: DeprecationWarning: time.clock has been deprecated in Python 3.3 and will be removed from Python 3.8: use time.perf_counter or time.process_time instead\n",
      "  # This is added back by InteractiveShellApp.init_path()\n",
      "/root/anaconda3/envs/env_1/lib/python3.7/site-packages/ipykernel_launcher.py:14: DeprecationWarning: time.clock has been deprecated in Python 3.3 and will be removed from Python 3.8: use time.perf_counter or time.process_time instead\n",
      "  \n",
      "/root/anaconda3/envs/env_1/lib/python3.7/site-packages/ipykernel_launcher.py:16: DeprecationWarning: time.clock has been deprecated in Python 3.3 and will be removed from Python 3.8: use time.perf_counter or time.process_time instead\n",
      "  app.launch_new_instance()\n"
     ]
    }
   ],
   "source": [
    "# 1.6通用函数\n",
    "# 本节将介绍Numpy的另一个对象通用函数（ufunc）。\n",
    "# ufunc是universal function的缩写，它是一种能对数组的每个元素进行操作的函数\n",
    "# 1.math与numpy函数的性能比较\n",
    "import time\n",
    "import math\n",
    "x = [i*0.001 for i in np.arange(1000)]\n",
    "start = time.clock()\n",
    "for i, t in enumerate(x):\n",
    "    x[i] = math.sin(t)\n",
    "print(\"math.sin:\",time.clock()-start)\n",
    "x = [i*0.001 for i in np.arange(1000)]\n",
    "x = np.array(x)\n",
    "start = time.clock()\n",
    "np.sin(x)\n",
    "print(\"numpy.sin:\", time.clock()-start)\n",
    "# numpy.sin比math.sin快"
   ]
  },
  {
   "cell_type": "code",
   "execution_count": 14,
   "metadata": {},
   "outputs": [
    {
     "name": "stdout",
     "output_type": "stream",
     "text": [
      "dot = 2519.3653066864813\n",
      " for loop---- Computation time = 6.801273000000663ms\n",
      "dot = 2519.365306686469\n",
      " vector version---- Computation time = 1.3493249999996237ms\n"
     ]
    }
   ],
   "source": [
    "# 2.循环与向量运算比较\n",
    "# 向量化要比使用循环计算速度快很多\n",
    "x1 = np.random.rand(10000)\n",
    "x2 = np.random.rand(10000)\n",
    "# 使用循环计算向量点积\n",
    "tic = time.process_time()\n",
    "dot = 0\n",
    "for i in range(len(x1)):\n",
    "    dot += x1[i]*x2[i]\n",
    "toc = time.process_time()\n",
    "print(\"dot = \"+str(dot)+\"\\n for loop---- Computation time = \"+str(1000*(toc-tic))+\"ms\")\n",
    "# 使用numpy函数求点积\n",
    "tic = time.process_time()\n",
    "dot = 0\n",
    "dot = np.dot(x1,x2)\n",
    "toc = time.process_time()\n",
    "print(\"dot = \"+str(dot)+\"\\n vector version---- Computation time = \"+str(1000*(toc-tic))+\"ms\")\n",
    "# 一般都使用向量化矩阵进行计算"
   ]
  },
  {
   "cell_type": "code",
   "execution_count": 15,
   "metadata": {},
   "outputs": [
    {
     "name": "stdout",
     "output_type": "stream",
     "text": [
      "[[ 0]\n",
      " [10]\n",
      " [20]\n",
      " [30]]\n",
      "A矩阵形状：(4, 1)，B矩阵形状：(3,)\n",
      "C矩阵的形状：(4, 3)\n",
      "[[ 0  1  2]\n",
      " [10 11 12]\n",
      " [20 21 22]\n",
      " [30 31 32]]\n"
     ]
    }
   ],
   "source": [
    "# 1.7广播机制\n",
    "A = np.arange(0,40,10).reshape(4,1)\n",
    "print(A)\n",
    "B = np.arange(0,3)\n",
    "print(\"A矩阵形状：{}，B矩阵形状：{}\".format(A.shape,B.shape))\n",
    "C = A+B\n",
    "print(\"C矩阵的形状：{}\".format(C.shape))\n",
    "print(C)"
   ]
  },
  {
   "cell_type": "code",
   "execution_count": null,
   "metadata": {},
   "outputs": [],
   "source": []
  }
 ],
 "metadata": {
  "kernelspec": {
   "display_name": "Python 3",
   "language": "python",
   "name": "python3"
  },
  "language_info": {
   "codemirror_mode": {
    "name": "ipython",
    "version": 3
   },
   "file_extension": ".py",
   "mimetype": "text/x-python",
   "name": "python",
   "nbconvert_exporter": "python",
   "pygments_lexer": "ipython3",
   "version": "3.7.6"
  }
 },
 "nbformat": 4,
 "nbformat_minor": 4
}
