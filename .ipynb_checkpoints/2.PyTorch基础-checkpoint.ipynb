{
 "cells": [
  {
   "cell_type": "code",
   "execution_count": 1,
   "metadata": {},
   "outputs": [
    {
     "name": "stdout",
     "output_type": "stream",
     "text": [
      "1.3.1\n"
     ]
    }
   ],
   "source": [
    "import torch\n",
    "print(torch.__version__)"
   ]
  },
  {
   "cell_type": "code",
   "execution_count": 3,
   "metadata": {},
   "outputs": [
    {
     "name": "stdout",
     "output_type": "stream",
     "text": [
      "Support CUDA?:  False\n"
     ]
    },
    {
     "ename": "AssertionError",
     "evalue": "\nFound no NVIDIA driver on your system. Please check that you\nhave an NVIDIA GPU and installed a driver from\nhttp://www.nvidia.com/Download/index.aspx",
     "output_type": "error",
     "traceback": [
      "\u001b[0;31m---------------------------------------------------------------------------\u001b[0m",
      "\u001b[0;31mAssertionError\u001b[0m                            Traceback (most recent call last)",
      "\u001b[0;32m<ipython-input-3-4b560f847a4c>\u001b[0m in \u001b[0;36m<module>\u001b[0;34m\u001b[0m\n\u001b[1;32m      5\u001b[0m     \u001b[0mprint\u001b[0m\u001b[0;34m(\u001b[0m\u001b[0;34m\"Support CUDA?: \"\u001b[0m\u001b[0;34m,\u001b[0m \u001b[0mtorch\u001b[0m\u001b[0;34m.\u001b[0m\u001b[0mcuda\u001b[0m\u001b[0;34m.\u001b[0m\u001b[0mis_available\u001b[0m\u001b[0;34m(\u001b[0m\u001b[0;34m)\u001b[0m\u001b[0;34m)\u001b[0m\u001b[0;34m\u001b[0m\u001b[0;34m\u001b[0m\u001b[0m\n\u001b[1;32m      6\u001b[0m     \u001b[0mx\u001b[0m \u001b[0;34m=\u001b[0m \u001b[0mtorch\u001b[0m\u001b[0;34m.\u001b[0m\u001b[0mtensor\u001b[0m\u001b[0;34m(\u001b[0m\u001b[0;34m[\u001b[0m\u001b[0;36m10.0\u001b[0m\u001b[0;34m]\u001b[0m\u001b[0;34m)\u001b[0m\u001b[0;34m\u001b[0m\u001b[0;34m\u001b[0m\u001b[0m\n\u001b[0;32m----> 7\u001b[0;31m     \u001b[0mx\u001b[0m \u001b[0;34m=\u001b[0m \u001b[0mx\u001b[0m\u001b[0;34m.\u001b[0m\u001b[0mcuda\u001b[0m\u001b[0;34m(\u001b[0m\u001b[0;34m)\u001b[0m\u001b[0;34m\u001b[0m\u001b[0;34m\u001b[0m\u001b[0m\n\u001b[0m\u001b[1;32m      8\u001b[0m     \u001b[0mprint\u001b[0m\u001b[0;34m(\u001b[0m\u001b[0mx\u001b[0m\u001b[0;34m)\u001b[0m\u001b[0;34m\u001b[0m\u001b[0;34m\u001b[0m\u001b[0m\n\u001b[1;32m      9\u001b[0m     \u001b[0my\u001b[0m \u001b[0;34m=\u001b[0m \u001b[0mtorch\u001b[0m\u001b[0;34m.\u001b[0m\u001b[0mrandn\u001b[0m\u001b[0;34m(\u001b[0m\u001b[0;36m2\u001b[0m\u001b[0;34m,\u001b[0m\u001b[0;36m3\u001b[0m\u001b[0;34m)\u001b[0m\u001b[0;34m\u001b[0m\u001b[0;34m\u001b[0m\u001b[0m\n",
      "\u001b[0;32m~/anaconda3/envs/env_1/lib/python3.7/site-packages/torch/cuda/__init__.py\u001b[0m in \u001b[0;36m_lazy_init\u001b[0;34m()\u001b[0m\n\u001b[1;32m    190\u001b[0m             raise RuntimeError(\n\u001b[1;32m    191\u001b[0m                 \"Cannot re-initialize CUDA in forked subprocess. \" + msg)\n\u001b[0;32m--> 192\u001b[0;31m         \u001b[0m_check_driver\u001b[0m\u001b[0;34m(\u001b[0m\u001b[0;34m)\u001b[0m\u001b[0;34m\u001b[0m\u001b[0;34m\u001b[0m\u001b[0m\n\u001b[0m\u001b[1;32m    193\u001b[0m         \u001b[0mtorch\u001b[0m\u001b[0;34m.\u001b[0m\u001b[0m_C\u001b[0m\u001b[0;34m.\u001b[0m\u001b[0m_cuda_init\u001b[0m\u001b[0;34m(\u001b[0m\u001b[0;34m)\u001b[0m\u001b[0;34m\u001b[0m\u001b[0;34m\u001b[0m\u001b[0m\n\u001b[1;32m    194\u001b[0m         \u001b[0m_cudart\u001b[0m \u001b[0;34m=\u001b[0m \u001b[0m_load_cudart\u001b[0m\u001b[0;34m(\u001b[0m\u001b[0;34m)\u001b[0m\u001b[0;34m\u001b[0m\u001b[0;34m\u001b[0m\u001b[0m\n",
      "\u001b[0;32m~/anaconda3/envs/env_1/lib/python3.7/site-packages/torch/cuda/__init__.py\u001b[0m in \u001b[0;36m_check_driver\u001b[0;34m()\u001b[0m\n\u001b[1;32m    100\u001b[0m \u001b[0mFound\u001b[0m \u001b[0mno\u001b[0m \u001b[0mNVIDIA\u001b[0m \u001b[0mdriver\u001b[0m \u001b[0mon\u001b[0m \u001b[0myour\u001b[0m \u001b[0msystem\u001b[0m\u001b[0;34m.\u001b[0m \u001b[0mPlease\u001b[0m \u001b[0mcheck\u001b[0m \u001b[0mthat\u001b[0m \u001b[0myou\u001b[0m\u001b[0;34m\u001b[0m\u001b[0;34m\u001b[0m\u001b[0m\n\u001b[1;32m    101\u001b[0m \u001b[0mhave\u001b[0m \u001b[0man\u001b[0m \u001b[0mNVIDIA\u001b[0m \u001b[0mGPU\u001b[0m \u001b[0;32mand\u001b[0m \u001b[0minstalled\u001b[0m \u001b[0ma\u001b[0m \u001b[0mdriver\u001b[0m \u001b[0;32mfrom\u001b[0m\u001b[0;34m\u001b[0m\u001b[0;34m\u001b[0m\u001b[0m\n\u001b[0;32m--> 102\u001b[0;31m http://www.nvidia.com/Download/index.aspx\"\"\")\n\u001b[0m\u001b[1;32m    103\u001b[0m         \u001b[0;32melse\u001b[0m\u001b[0;34m:\u001b[0m\u001b[0;34m\u001b[0m\u001b[0;34m\u001b[0m\u001b[0m\n\u001b[1;32m    104\u001b[0m             \u001b[0;31m# TODO: directly link to the alternative bin that needs install\u001b[0m\u001b[0;34m\u001b[0m\u001b[0;34m\u001b[0m\u001b[0;34m\u001b[0m\u001b[0m\n",
      "\u001b[0;31mAssertionError\u001b[0m: \nFound no NVIDIA driver on your system. Please check that you\nhave an NVIDIA GPU and installed a driver from\nhttp://www.nvidia.com/Download/index.aspx"
     ]
    }
   ],
   "source": [
    "# 测试GPU\n",
    "import torch\n",
    "if __name__ == '__main__':\n",
    "    # 测试cuda\n",
    "    print(\"Support CUDA?: \", torch.cuda.is_available())\n",
    "    x = torch.tensor([10.0])\n",
    "    x = x.cuda()\n",
    "    print(x)\n",
    "    y = torch.randn(2,3)\n",
    "    y = y.cuda()\n",
    "    z = x + y\n",
    "    print(z)\n",
    "    # 测试cudnn\n",
    "    from torch.backends import cudnn\n",
    "    print(\"Support cudnn?: \",cudnn.is_acceptable(x))\n",
    "\n",
    "main()"
   ]
  },
  {
   "cell_type": "code",
   "execution_count": 5,
   "metadata": {},
   "outputs": [
    {
     "name": "stdout",
     "output_type": "stream",
     "text": [
      "tensor([4, 6])\n",
      "x:  tensor([1, 2])\n",
      "x:  tensor([4, 6])\n"
     ]
    }
   ],
   "source": [
    "# 2.4 Numpy与Tensor\n",
    "# 2.4.1 Tensor概述\n",
    "# 对大部分Tensor都是等价的，如torch.add(x,y)与x.add(y)等价\n",
    "#　1）不修改自身数据，如x.add(y)，x的数据不变，返回一个新的Tensor。\n",
    "#  2）修改自身数据，如x.add_(y)（运行符带下划线后缀），运算结果存在x中，x被修改\n",
    "import torch\n",
    "x = torch.tensor([1,2])\n",
    "y = torch.tensor([3,4])\n",
    "z = x.add(y)\n",
    "print(z)\n",
    "print('x: ', x)\n",
    "x.add_(y)\n",
    "print('x: ', x)"
   ]
  },
  {
   "cell_type": "code",
   "execution_count": 6,
   "metadata": {},
   "outputs": [
    {
     "data": {
      "text/plain": [
       "tensor([[-2.0335e-30,  4.5604e-41, -2.0334e-30],\n",
       "        [ 4.5604e-41, -2.0334e-30,  4.5604e-41]])"
      ]
     },
     "execution_count": 6,
     "metadata": {},
     "output_type": "execute_result"
    }
   ],
   "source": [
    "# 2.4.2 创建tensor\n",
    "import torch\n",
    "# 根据list数据生成Tensor\n",
    "torch.Tensor([1,2,3,4,5,6])\n",
    "# 根据形状生成Tensor\n",
    "torch.Tensor(2,3)\n",
    "# 根据给定的Tensor的形状\n",
    "t = torch.Tensor([[1,2,3],[4,5,6]])\n",
    "# 查看Tensor的形状\n",
    "t.size()\n",
    "# shape与size（）等价方式\n",
    "t.shape\n",
    "# 根据已有形状创建Tensor\n",
    "torch.Tensor(t.size())"
   ]
  },
  {
   "cell_type": "code",
   "execution_count": 7,
   "metadata": {},
   "outputs": [],
   "source": [
    "# 注意torch.Tensor与torch.tensor的几点区别：\n",
    "# 1）torch.Tensor是torch.empty和torch.tensor之间的一种混合，但是，当传入数据时，torch.Tensor使用全局默认dtype（FloatTensor），\n",
    "#    而torch.tensor是从数据中推断数据类型。\n",
    "# 2）torch.tensor(1)返回一个固定值1，而torch.Tensor(1)返回一个大小为1的张量，它是随机初始化的值"
   ]
  },
  {
   "cell_type": "code",
   "execution_count": 8,
   "metadata": {},
   "outputs": [
    {
     "name": "stdout",
     "output_type": "stream",
     "text": [
      "t1的值tensor([-3.8349e-30])，t1的数据类型torch.FloatTensor\n",
      "t2的值1，t2的数据类型torch.LongTensor\n"
     ]
    }
   ],
   "source": [
    "import torch\n",
    "t1 = torch.Tensor(1)\n",
    "t2 = torch.tensor(1)\n",
    "print(\"t1的值{}，t1的数据类型{}\".format(t1,t1.type()))\n",
    "print(\"t2的值{}，t2的数据类型{}\".format(t2,t2.type()))"
   ]
  },
  {
   "cell_type": "code",
   "execution_count": 9,
   "metadata": {},
   "outputs": [
    {
     "data": {
      "text/plain": [
       "tensor([[0., 0., 0.],\n",
       "        [0., 0., 0.]])"
      ]
     },
     "execution_count": 9,
     "metadata": {},
     "output_type": "execute_result"
    }
   ],
   "source": [
    "# 自动生成Tensor的例子\n",
    "# 生成一个单位矩阵\n",
    "torch.eye(2,2)\n",
    "# 自动生成全是0的矩阵\n",
    "torch.zeros(2,3)\n",
    "# 根据规则生成数据\n",
    "torch.linspace(1,10,4)\n",
    "# 生成满足均匀分布的随机数\n",
    "torch.rand(2,3)\n",
    "# 生成满足标准分布的随机数\n",
    "torch.randn(2,3)\n",
    "# 返回所给数据形状相同，值全为0的张量\n",
    "torch.zeros_like(torch.rand(2,3))"
   ]
  },
  {
   "cell_type": "code",
   "execution_count": 10,
   "metadata": {},
   "outputs": [
    {
     "data": {
      "text/plain": [
       "6"
      ]
     },
     "execution_count": 10,
     "metadata": {},
     "output_type": "execute_result"
    }
   ],
   "source": [
    "# 2.4.3修改Tensor形状\n",
    "# 生成一个形状为2*3的矩阵\n",
    "x = torch.randn(2,3)\n",
    "# 查看矩阵的形状\n",
    "x.size()\n",
    "# 查看x的维度\n",
    "x.dim() # 结果为2\n",
    "# 把x变为3*2的矩阵\n",
    "x.view(3,2)\n",
    "# 把x展平为1维向量\n",
    "y = x.view(-1)\n",
    "y.shape\n",
    "# 添加一个维度\n",
    "z = torch.unsqueeze(y,0)\n",
    "# 查看z的形状\n",
    "z.size() #结果为torch.size([1.6])\n",
    "# 计算z的元素个数\n",
    "z.numel() # 结果为6\n",
    "\n",
    "# torch.view与torch.reshpae的异同\n",
    "# 1）reshape()可以由torch.reshape()，也可由torch.Tensor.reshape()调用。但view()只可由torch.Tensor.view()来调用。\n",
    "# 2）对于一个将要被view的Tensor，新的size必须与原来的size与stride兼容。否则，在view之前必须调用contiguous()方法。\n",
    "# 3）同样也是返回与input数据量相同，但形状不同的Tensor。若满足view的条件，则不会copy，若不满足，则会copy。\n",
    "# 4）如果你只想重塑张量，请使用torch.reshape。如果你还关注内存使用情况并希望确保两个张量共享相同的数据，请使用torch.view"
   ]
  },
  {
   "cell_type": "code",
   "execution_count": 12,
   "metadata": {},
   "outputs": [
    {
     "data": {
      "text/plain": [
       "tensor([[ 0.3607, -0.2859,  0.0000],\n",
       "        [ 0.0000, -1.3833,  0.0000]])"
      ]
     },
     "execution_count": 12,
     "metadata": {},
     "output_type": "execute_result"
    }
   ],
   "source": [
    "# 2.4.4 索引操作\n",
    "import torch\n",
    "# 设置一个随机种子\n",
    "torch.manual_seed(100)\n",
    "# 生成一个形状为2*3的矩阵\n",
    "x = torch.randn(2,3)\n",
    "# 根据索引获取第一行，所有数据\n",
    "x[0,:]\n",
    "# 获取最后一列数据\n",
    "x[:,-1]\n",
    "# 生成是否大于0的Byter张量\n",
    "mask=x>0\n",
    "# 获取大于0的值\n",
    "torch.masked_select(x,mask)\n",
    "# 获取非0下标，即行列索引\n",
    "torch.nonzero(mask)\n",
    "# 获取指定索引对应的值，输出根据以下规则得到\n",
    "# out[i][j] = input[index[i][j][i]] # if dim==0\n",
    "# out[i][j] = input[i][index[i][j]] # if dim==1\n",
    "index = torch.LongTensor([[0,1,1]])\n",
    "torch.gather(x,0,index)\n",
    "index = torch.LongTensor([[0,1,1],[1,1,1]])\n",
    "a = torch.gather(x,1,index)\n",
    "# 把a的值返回到一个2*3的0矩阵中\n",
    "z = torch.zeros(2,3)\n",
    "z.scatter_(1,index,a)"
   ]
  },
  {
   "cell_type": "code",
   "execution_count": 13,
   "metadata": {},
   "outputs": [],
   "source": [
    "# 2.4.5 广播机制\n",
    "import numpy as np \n",
    "A = np.arange(0,40,10).reshape(4,1)\n",
    "B = np.arange(0,3)\n",
    "# 把ndarray转换成Tensor\n",
    "A1 = torch.from_numpy(A) # 形状为4*1\n",
    "B1 = torch.from_numpy(B) # 形状为3\n",
    "# Tensor实现自动广播\n",
    "C = A1 + B1\n",
    "# 根据规则1，B1需要向A1看齐，把B变为（1,3）\n",
    "B2 = B1.unsqueeze(0) # B2的形状为1*3\n",
    "# 使用expand函数重复数组，分别为4*3的矩阵\n",
    "A2 = A1.expand(4,3)\n",
    "B3 = B2.expand(4,3)\n",
    "# 然后进行相加，C1与C结果一致\n",
    "C1 = A2 + B3"
   ]
  },
  {
   "cell_type": "code",
   "execution_count": 14,
   "metadata": {},
   "outputs": [
    {
     "data": {
      "text/plain": [
       "tensor([[1.6828, 1.1340, 3.7482]])"
      ]
     },
     "execution_count": 14,
     "metadata": {},
     "output_type": "execute_result"
    }
   ],
   "source": [
    "# 2.4.6 逐元素操作\n",
    "import torch\n",
    "t = torch.randn(1,3)\n",
    "t1 = torch.randn(3,1)\n",
    "t2 = torch.randn(1,3)\n",
    "# t + 0.1*(t1/t2)\n",
    "torch.addcdiv(t,0.1,t1,t2)\n",
    "# 计算sigmoid\n",
    "torch.sigmoid(t)\n",
    "# 将t限制在[0,1]之间\n",
    "torch.clamp(t,0,1)\n",
    "# t+2进行就地计算\n",
    "t.add_(2)"
   ]
  },
  {
   "cell_type": "code",
   "execution_count": 15,
   "metadata": {},
   "outputs": [
    {
     "name": "stdout",
     "output_type": "stream",
     "text": [
      "tensor([ 0.,  2.,  4.,  6.,  8., 10.])\n"
     ]
    }
   ],
   "source": [
    "# 2.4.7归并操作\n",
    "import torch\n",
    "# 生成一个含6个数的向量\n",
    "a = torch.linspace(0,10,6)\n",
    "print(a)\n",
    "# 使用view方法，把a变为2*3矩阵\n",
    "a = a.view((2,3))\n",
    "# 沿着y轴方向累加，即dim=0\n",
    "b = a.sum(dim=0) # b的形状为[3]\n",
    "# 沿着y轴方向累加，即dim=0，并保留含1的维度\n",
    "b = a.sum(dim=0, keepdim=True) # b的形状为【1,3】"
   ]
  },
  {
   "cell_type": "code",
   "execution_count": 18,
   "metadata": {},
   "outputs": [
    {
     "data": {
      "text/plain": [
       "torch.return_types.topk(\n",
       "values=tensor([[ 6.,  8., 10.]]),\n",
       "indices=tensor([[1, 1, 1]]))"
      ]
     },
     "execution_count": 18,
     "metadata": {},
     "output_type": "execute_result"
    }
   ],
   "source": [
    "x = torch.linspace(0,10,6).view(2,3)\n",
    "# 求所有元素的最大值\n",
    "torch.max(x) # 结果为10\n",
    "# 求y轴方向的最大值\n",
    "torch.max(x,dim=0) # 结果为【6,10,8】\n",
    "# 求指定维度最大的元素\n",
    "torch.topk(x,1,dim=0)"
   ]
  },
  {
   "cell_type": "code",
   "execution_count": 20,
   "metadata": {},
   "outputs": [
    {
     "name": "stdout",
     "output_type": "stream",
     "text": [
      "tensor([[7, 9, 2],\n",
      "        [6, 7, 7]])\n",
      "tensor([[0, 3, 0, 5],\n",
      "        [3, 1, 4, 4],\n",
      "        [3, 0, 0, 5]])\n"
     ]
    },
    {
     "data": {
      "text/plain": [
       "tensor([[33, 30, 36, 81],\n",
       "        [42, 25, 28, 93]])"
      ]
     },
     "execution_count": 20,
     "metadata": {},
     "output_type": "execute_result"
    }
   ],
   "source": [
    "# 1）Torch的dot与Numpy的dot有点不同，Torch中的dot是对两个为1D张量进行点积运算，Numpy中的dot无此限制。\n",
    "# 2）mm是对2D的矩阵进行点积，bmm对含batch的3D进行点积运算。\n",
    "# 3）转置运算会导致存储空间不连续，需要调用contiguous方法转为连续。\n",
    "import torch\n",
    "a = torch.tensor([2,3])\n",
    "b = torch.tensor([3,4])\n",
    "torch.dot(a,b) # 结果为18\n",
    "x = torch.randint(10,(2,3))\n",
    "print(x)\n",
    "y = torch.randint(6,(3,4))\n",
    "print(y)\n",
    "torch.mm(x,y)"
   ]
  },
  {
   "cell_type": "code",
   "execution_count": 22,
   "metadata": {},
   "outputs": [
    {
     "name": "stdout",
     "output_type": "stream",
     "text": [
      "tensor([[[5, 6, 9],\n",
      "         [2, 3, 1]],\n",
      "\n",
      "        [[0, 2, 1],\n",
      "         [2, 7, 9]]])\n",
      "tensor([[[2, 4, 2, 0],\n",
      "         [2, 4, 5, 4],\n",
      "         [3, 5, 0, 5]],\n",
      "\n",
      "        [[4, 0, 4, 0],\n",
      "         [0, 2, 3, 2],\n",
      "         [1, 5, 2, 4]]])\n"
     ]
    },
    {
     "data": {
      "text/plain": [
       "tensor([[[49, 89, 40, 69],\n",
       "         [13, 25, 19, 17]],\n",
       "\n",
       "        [[ 1,  9,  8,  8],\n",
       "         [17, 59, 47, 50]]])"
      ]
     },
     "execution_count": 22,
     "metadata": {},
     "output_type": "execute_result"
    }
   ],
   "source": [
    "x = torch.randint(10,(2,2,3))\n",
    "print(x)\n",
    "y = torch.randint(6,(2,3,4))\n",
    "print(y)\n",
    "torch.bmm(x,y)"
   ]
  },
  {
   "cell_type": "code",
   "execution_count": 1,
   "metadata": {},
   "outputs": [
    {
     "name": "stdout",
     "output_type": "stream",
     "text": [
      "x,w,b的require_grad属性分别为：False，True，True\n"
     ]
    }
   ],
   "source": [
    "# 2.5Tensor与Autograd\n",
    "# 2.5.3 标量反向传播\n",
    "# （1）定义叶子节点及算子节点\n",
    "import torch\n",
    "# 定义输入张量x\n",
    "x = torch.Tensor([2])\n",
    "# 初始化权重参数W，偏移量b，并设置为require_grad属性为True，为自动求导\n",
    "w = torch.randn(1,requires_grad=True)\n",
    "b = torch.randn(1,requires_grad=True)\n",
    "# 实现前向传播\n",
    "y = torch.mul(w,x) # 等价于w*x\n",
    "z = torch.add(y,b) # 等价于y+b\n",
    "# 查看x，w，b子节点的require_grad属性\n",
    "print(\"x,w,b的require_grad属性分别为：{}，{}，{}\".format(x.requires_grad,w.requires_grad,b.requires_grad))"
   ]
  },
  {
   "cell_type": "code",
   "execution_count": 2,
   "metadata": {},
   "outputs": [
    {
     "name": "stdout",
     "output_type": "stream",
     "text": [
      "y,z的requires_grad属性分别为：True，True\n"
     ]
    }
   ],
   "source": [
    "# 查看叶子节点，非叶子节点的其他属性\n",
    "print(\"y,z的requires_grad属性分别为：{}，{}\".format(y.requires_grad,z.requires_grad))"
   ]
  },
  {
   "cell_type": "code",
   "execution_count": 3,
   "metadata": {},
   "outputs": [
    {
     "name": "stdout",
     "output_type": "stream",
     "text": [
      "x,w,b,y,z是否是叶子节点：True，True，True，False，False\n"
     ]
    }
   ],
   "source": [
    "# 查看各节点是否是叶子节点\n",
    "print(\"x,w,b,y,z是否是叶子节点：{}，{}，{}，{}，{}\".format(x.is_leaf,w.is_leaf,b.is_leaf,y.is_leaf,z.is_leaf))"
   ]
  },
  {
   "cell_type": "code",
   "execution_count": 6,
   "metadata": {},
   "outputs": [
    {
     "name": "stdout",
     "output_type": "stream",
     "text": [
      "x,y,b的grad_fn属性：None，None，None\n"
     ]
    }
   ],
   "source": [
    "# 查看叶子节点的grad_fn属性\n",
    "# x,w,b是用户创建的，是通过其他张量计算得到的\n",
    "print(\"x,y,b的grad_fn属性：{}，{}，{}\".format(x.grad_fn,w.grad_fn,b.grad_fn))"
   ]
  },
  {
   "cell_type": "code",
   "execution_count": 7,
   "metadata": {},
   "outputs": [
    {
     "name": "stdout",
     "output_type": "stream",
     "text": [
      "y,z的grad_fn属性：<MulBackward0 object at 0x7fa3a0561950>，<AddBackward0 object at 0x7fa3a05613d0>\n"
     ]
    }
   ],
   "source": [
    "# 查看非叶子节点的grad_fn属性\n",
    "print(\"y,z的grad_fn属性：{}，{}\".format(y.grad_fn,z.grad_fn))"
   ]
  },
  {
   "cell_type": "code",
   "execution_count": 48,
   "metadata": {},
   "outputs": [],
   "source": [
    "# 2.5.4 非标量反向传播\n",
    "# 定义叶子节点及计算节点\n",
    "import torch\n",
    "# 定义叶子节点张量x，形状为1*2\n",
    "x = torch.tensor([[2,3]],dtype=torch.float,requires_grad=True)\n",
    "# 初始化Jacobian矩阵\n",
    "J = torch.zeros(2,2)\n",
    "# 初始化目标张量，形状为1*2\n",
    "y = torch.zeros(1,2)\n",
    "# 定义y与x之间的映射关系\n",
    "y[0,0] = x[0,0]**2 + 3*x[0,1]\n",
    "y[0,1] = x[0,1]**2 + 2*x[0,0]"
   ]
  },
  {
   "cell_type": "code",
   "execution_count": 29,
   "metadata": {},
   "outputs": [
    {
     "name": "stdout",
     "output_type": "stream",
     "text": [
      "tensor([[6., 9.]])\n"
     ]
    }
   ],
   "source": [
    "# (2)手工计算y对x的梯度\n",
    "# 调用backward来获取y对x的梯度\n",
    "#y.backward(torch.Tensor([[1,1]]))\n",
    "#print(x.grad)"
   ]
  },
  {
   "cell_type": "code",
   "execution_count": 49,
   "metadata": {},
   "outputs": [
    {
     "name": "stdout",
     "output_type": "stream",
     "text": [
      "tensor([[4., 3.],\n",
      "        [2., 6.]])\n"
     ]
    }
   ],
   "source": [
    "# 生成y1对x的梯度\n",
    "y.backward(torch.Tensor([[1,0]]),retain_graph=True)\n",
    "J[0] = x.grad\n",
    "# 梯度是累加的，需要对x的梯度清零\n",
    "x.grad = torch.zeros_like(x.grad)\n",
    "# 生成y2对x的梯度\n",
    "y.backward(torch.Tensor([[0,1]]))\n",
    "J[1] = x.grad\n",
    "# 显示jacobian矩阵的值\n",
    "print(J)\n",
    "# 有错"
   ]
  },
  {
   "cell_type": "code",
   "execution_count": 33,
   "metadata": {},
   "outputs": [],
   "source": [
    "# 使用Numpy实现机器学习\n",
    "import numpy as np\n",
    "%matplotlib inline\n",
    "from matplotlib import pyplot as plt"
   ]
  },
  {
   "cell_type": "code",
   "execution_count": 34,
   "metadata": {},
   "outputs": [],
   "source": [
    "# 生成输入数据x及目标数据y\n",
    "np.random.seed(100)\n",
    "x = np.linspace(-1,1,100).reshape(100,1)\n",
    "y = 3*np.power(x,2)+2+0.2*np.random.randn(x.size).reshape(100,1)"
   ]
  },
  {
   "cell_type": "code",
   "execution_count": 35,
   "metadata": {},
   "outputs": [
    {
     "data": {
      "image/png": "[encoded data removed]",
      "text/plain": [
       "<Figure size 432x288 with 1 Axes>"
      ]
     },
     "metadata": {
      "needs_background": "light"
     },
     "output_type": "display_data"
    }
   ],
   "source": [
    "# 画图\n",
    "plt.scatter(x,y)\n",
    "plt.show()"
   ]
  },
  {
   "cell_type": "code",
   "execution_count": 36,
   "metadata": {},
   "outputs": [],
   "source": [
    "# 初始化权重参数\n",
    "w1 = np.random.rand(1,1)\n",
    "b1 = np.random.rand(1,1)"
   ]
  },
  {
   "cell_type": "code",
   "execution_count": 38,
   "metadata": {},
   "outputs": [],
   "source": [
    "# 训练模型\n",
    "lr = 0.001\n",
    "for i in range(800):\n",
    "    # 前向传播\n",
    "    y_pred = np.power(x,2)*w1 + b1\n",
    "    # 定义损失函数\n",
    "    loss = 0.5*(y_pred - y)**2\n",
    "    loss = loss.sum()\n",
    "    # 计算梯度\n",
    "    grad_w = np.sum((y_pred - y)*np.power(x,2))\n",
    "    grad_b = np.sum((y_pred - y))\n",
    "    # 使用梯度下降法，使得loss最小\n",
    "    w1 -= lr*grad_w\n",
    "    b1 -= lr*grad_b"
   ]
  },
  {
   "cell_type": "code",
   "execution_count": 39,
   "metadata": {},
   "outputs": [
    {
     "data": {
      "image/png": "[encoded data removed]",
      "text/plain": [
       "<Figure size 432x288 with 1 Axes>"
      ]
     },
     "metadata": {
      "needs_background": "light"
     },
     "output_type": "display_data"
    },
    {
     "name": "stdout",
     "output_type": "stream",
     "text": [
      "[[3.05792438]] [[1.95954387]]\n"
     ]
    }
   ],
   "source": [
    "# 可视化结果\n",
    "plt.plot(x,y_pred,'r-',label='predict')\n",
    "plt.scatter(x,y,color='blue',marker='o',label='true') # true data\n",
    "plt.xlim(-1,1)\n",
    "plt.ylim(2,6)\n",
    "plt.legend()\n",
    "plt.show()\n",
    "print(w1,b1)"
   ]
  },
  {
   "cell_type": "code",
   "execution_count": 40,
   "metadata": {},
   "outputs": [],
   "source": [
    "# 2.7使用Tensor以及ANtograd实现机器学习\n",
    "import torch as t\n",
    "%matplotlib inline\n",
    "from matplotlib import pyplot as plt"
   ]
  },
  {
   "cell_type": "code",
   "execution_count": 44,
   "metadata": {},
   "outputs": [
    {
     "data": {
      "image/png": "[encoded data removed]",
      "text/plain": [
       "<Figure size 432x288 with 1 Axes>"
      ]
     },
     "metadata": {
      "needs_background": "light"
     },
     "output_type": "display_data"
    }
   ],
   "source": [
    "# 生成训练数据，并可视化数据分布情况\n",
    "t.manual_seed(100)\n",
    "dtype = t.float\n",
    "# 生成x坐标数据，x为tensor\n",
    "x = t.unsqueeze(torch.linspace(-1,1,100),dim=1)\n",
    "# 生成y坐标数据，y为tensor，另外加上噪声\n",
    "y = 3*x.pow(2) +2+0.2*torch.rand(x.size())\n",
    "# 画图，把tensor转换成numpy数据\n",
    "plt.scatter(x.numpy(),y.numpy())\n",
    "plt.show()"
   ]
  },
  {
   "cell_type": "code",
   "execution_count": 45,
   "metadata": {},
   "outputs": [],
   "source": [
    "# 初始化权重参数\n",
    "# 随机初始化，w，b为需要学习的，所以requires_grad = True\n",
    "w = t.randn(1,1,dtype=dtype,requires_grad=True)\n",
    "b = t.zeros(1,1,dtype=dtype,requires_grad=True)"
   ]
  },
  {
   "cell_type": "code",
   "execution_count": 46,
   "metadata": {},
   "outputs": [],
   "source": [
    "# 训练模型\n",
    "lr = 0.001\n",
    "for ii in range (800):\n",
    "    # 前向传播，并定义损失函数loss\n",
    "    y_pred = x.pow(2).mm(w) + b\n",
    "    loss = 0.5*(y_pred-y)**2\n",
    "    loss = loss.sum()\n",
    "    # 自动计算梯度，梯度存放在grad属性中\n",
    "    loss.backward()\n",
    "    # 手动更新参数，需要用到torch.no_grad(),使上下文环境切断自动求导计算\n",
    "    with t.no_grad():\n",
    "        w-=lr*w.grad\n",
    "        b-=lr*b.grad\n",
    "        # 梯度清零\n",
    "        w.grad.zero_()\n",
    "        b.grad.zero_()"
   ]
  },
  {
   "cell_type": "code",
   "execution_count": 47,
   "metadata": {},
   "outputs": [
    {
     "data": {
      "image/png": "[encoded data removed]",
      "text/plain": [
       "<Figure size 432x288 with 1 Axes>"
      ]
     },
     "metadata": {
      "needs_background": "light"
     },
     "output_type": "display_data"
    },
    {
     "name": "stdout",
     "output_type": "stream",
     "text": [
      "tensor([[2.9645]], requires_grad=True) tensor([[2.1146]], requires_grad=True)\n"
     ]
    }
   ],
   "source": [
    "# 可视化结果\n",
    "# detach所做的就是,重新声明一个变量,指向原变量的存放位置,\n",
    "# 但是requires_grad为false.更深入一点的理解是,计算图从detach过的变量这里就断了, \n",
    "# 它变成了一个leaf_node.即使之后重新将它的requires_node置为true,它也不会具有梯度\n",
    "\n",
    "plt.plot(x.numpy(),y_pred.detach().numpy(),'r-',label='predict')\n",
    "plt.scatter(x.numpy(),y.numpy(),color='blue',marker='o',label='true') # true data\n",
    "plt.xlim(-1,1)\n",
    "plt.ylim(2,6)\n",
    "plt.legend()\n",
    "plt.show()\n",
    "print(w,b)"
   ]
  },
  {
   "cell_type": "code",
   "execution_count": null,
   "metadata": {},
   "outputs": [],
   "source": []
  }
 ],
 "metadata": {
  "kernelspec": {
   "display_name": "Python 3",
   "language": "python",
   "name": "python3"
  },
  "language_info": {
   "codemirror_mode": {
    "name": "ipython",
    "version": 3
   },
   "file_extension": ".py",
   "mimetype": "text/x-python",
   "name": "python",
   "nbconvert_exporter": "python",
   "pygments_lexer": "ipython3",
   "version": "3.7.6"
  }
 },
 "nbformat": 4,
 "nbformat_minor": 4
}
