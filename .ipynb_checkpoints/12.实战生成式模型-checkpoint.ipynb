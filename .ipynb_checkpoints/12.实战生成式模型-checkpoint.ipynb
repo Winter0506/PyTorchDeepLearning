{
 "cells": [
  {
   "cell_type": "code",
   "execution_count": null,
   "metadata": {},
   "outputs": [],
   "source": [
    "# 12.1 DeepDream模型\n",
    "# （1）下载预训练模型\n",
    "# 下载预训练模型vgg19\n",
    "vgg = models.vgg19(pretrained=True)\n",
    "vgg = vgg.to(device)\n",
    "print(vgg)\n",
    "modulelist = list(vgg.features.modules())"
   ]
  },
  {
   "cell_type": "code",
   "execution_count": 1,
   "metadata": {},
   "outputs": [],
   "source": [
    "# (2)函数prod的主要功能\n",
    "def prod(image, layer, iterations, lr):\n",
    "    input = preprocess(image).unsqueeze(0)\n",
    "    input = input.to(device).requires_grad_(True)\n",
    "    vgg.zero_grad()\n",
    "    for i in range(iterations):\n",
    "        out = input\n",
    "        for j in range(layer):\n",
    "            out = modulelist[j+1](out)\n",
    "        # 以特征值的L2为损失值\n",
    "        loss = out.norm()\n",
    "        loss.backward()\n",
    "        # 使梯度增大\n",
    "        with torch.no_grad():\n",
    "            input += lr*input.grad\n",
    "        input = input.squeeze()\n",
    "        # 交互维度\n",
    "        input.transpose_(0,1)\n",
    "        input.transpose_(1,2)\n",
    "        # 使数据限制在[0,1]之间\n",
    "        input = np.clip(deprocess(input).detach().cpu().numpy(),0,1)\n",
    "        im = Image.fromarray(np.uint8(input*255))\n",
    "        return im"
   ]
  },
  {
   "cell_type": "code",
   "execution_count": null,
   "metadata": {},
   "outputs": [],
   "source": [
    "# (3)函数deep_dream_vgg的主要功能\n",
    "# 函数deep_dream_vgg是一个递归函数，多次缩小图像，然后调用函数prod。\n",
    "# 接着在放大结果，并与按一定比例图像混合在一起，最终得到与输入图像相同大小的输出图像\n",
    "def deep_dream_vgg(image,layer,iterations,lr,octave_scale=2,num_octaves=20):\n",
    "    if num_octaves>0:\n",
    "        image1 = image.filter(ImageFilter.GaussianBlur(2))\n",
    "        if(image1.size[0]/octave_scale<1 or image1.size[1]/octave_scale<1):\n",
    "            size = image1.size\n",
    "        else:\n",
    "            size = (int(image1.size[0]/octave_scale), int(image1.size[1]/octave_scale))\n",
    "        # 缩小图像\n",
    "        image1 = image1.resize(size, Image.ANTIALIAS)\n",
    "        image1 = deep_dream_vgg(image1, layer, iterations, lr, octave_scale, num_octaves-1)\n",
    "        size = (image.size[0], image.size[1])\n",
    "        # 放大图像\n",
    "        image1 = image1.resize(size, Image.ANTIALIAS)\n",
    "        image = ImageChops.blend(image, image1, 0.6)\n",
    "    img_result = prod(image, layer, iterations, lr)\n",
    "    img_result = img_result.resize(image.size)\n",
    "    plt.imshow(img_result)\n",
    "    return img_result"
   ]
  },
  {
   "cell_type": "code",
   "execution_count": null,
   "metadata": {},
   "outputs": [],
   "source": [
    "# (4)运行结果\n",
    "# 输入图像\n",
    "night_sky = load_image('data/starry_night.jpg')\n",
    "# 使用VGG19的第4层\n",
    "night_sky_4 = deep_dream_vgg(night_sky, 4, 6, 0.2)\n",
    "# 使用VGG19的第8层\n",
    "night_sky_8 = deep_dream_vgg(night_sky, 8, 6, 0.2)\n"
   ]
  },
  {
   "cell_type": "code",
   "execution_count": null,
   "metadata": {},
   "outputs": [],
   "source": [
    "# 12.2 风格迁移\n",
    "# 实现风格迁移核心思想就是定义损失函数，如何定义损失函数就成为解决问题的关键。\n",
    "# 这个损失函数应该包括内容损失和风格损失，这里的损失包括风格损失和内容损失\n",
    "loss = distance(style(reference_image) - style(generated_image)) + distance(content(original_image)-content(generated_image))"
   ]
  },
  {
   "cell_type": "code",
   "execution_count": 1,
   "metadata": {},
   "outputs": [
    {
     "ename": "NameError",
     "evalue": "name 'nn' is not defined",
     "output_type": "error",
     "traceback": [
      "\u001b[0;31m---------------------------------------------------------------------------\u001b[0m",
      "\u001b[0;31mNameError\u001b[0m                                 Traceback (most recent call last)",
      "\u001b[0;32m<ipython-input-1-c1a5c46d30b1>\u001b[0m in \u001b[0;36m<module>\u001b[0;34m\u001b[0m\n\u001b[1;32m      1\u001b[0m \u001b[0;31m# 12.2.1 内容损失\u001b[0m\u001b[0;34m\u001b[0m\u001b[0;34m\u001b[0m\u001b[0;34m\u001b[0m\u001b[0m\n\u001b[1;32m      2\u001b[0m \u001b[0;31m# （1）定义内容损失函数\u001b[0m\u001b[0;34m\u001b[0m\u001b[0;34m\u001b[0m\u001b[0;34m\u001b[0m\u001b[0m\n\u001b[0;32m----> 3\u001b[0;31m \u001b[0;32mclass\u001b[0m \u001b[0mContentLoss\u001b[0m\u001b[0;34m(\u001b[0m\u001b[0mnn\u001b[0m\u001b[0;34m.\u001b[0m\u001b[0mModule\u001b[0m\u001b[0;34m)\u001b[0m\u001b[0;34m:\u001b[0m\u001b[0;34m\u001b[0m\u001b[0;34m\u001b[0m\u001b[0m\n\u001b[0m\u001b[1;32m      4\u001b[0m     \u001b[0;32mdef\u001b[0m \u001b[0m__init__\u001b[0m\u001b[0;34m(\u001b[0m\u001b[0mself\u001b[0m\u001b[0;34m,\u001b[0m \u001b[0mtarget\u001b[0m\u001b[0;34m,\u001b[0m\u001b[0;34m)\u001b[0m\u001b[0;34m:\u001b[0m\u001b[0;34m\u001b[0m\u001b[0;34m\u001b[0m\u001b[0m\n\u001b[1;32m      5\u001b[0m         \u001b[0;31m# 必须要用detach来分离出target，这时target不再是一个Variable\u001b[0m\u001b[0;34m\u001b[0m\u001b[0;34m\u001b[0m\u001b[0;34m\u001b[0m\u001b[0m\n",
      "\u001b[0;31mNameError\u001b[0m: name 'nn' is not defined"
     ]
    }
   ],
   "source": [
    "# 12.2.1 内容损失\n",
    "# （1）定义内容损失函数\n",
    "class ContentLoss(nn.Module):\n",
    "    def __init__(self, target,):\n",
    "        # 必须要用detach来分离出target，这时target不再是一个Variable\n",
    "        # 这是为了动态计算梯度， 否则forward会出错，不能向前传播\n",
    "        self.target = target.detach()\n",
    "    def forward(self, input):\n",
    "        self.loss = F.mse_loss(input, self.target)\n",
    "        return input"
   ]
  },
  {
   "cell_type": "code",
   "execution_count": null,
   "metadata": {},
   "outputs": [],
   "source": [
    "# (2) 在卷积层上求损失值\n",
    "content_layers = ['conv_4']\n",
    "if name in content_layers:\n",
    "    # 累加内容损失\n",
    "    target = model(content_img).detach()\n",
    "    content_loss = ContentLoss(target)\n",
    "    model.add_module(\"content_loss_{}\".format(i), content_loss)\n",
    "    content_losses.append(content_loss)"
   ]
  },
  {
   "cell_type": "code",
   "execution_count": null,
   "metadata": {},
   "outputs": [],
   "source": [
    "# 12.2.2 风格损失\n",
    "# （1）先计算格拉姆矩阵\n",
    "def gram_matrix(input):\n",
    "    a,b,c,d = input.size()\n",
    "    # a表示batch_size的大小\n",
    "    # b是特征图的数量\n",
    "    # （c,d）是特征图的维度（N=c*d）\n",
    "    features = input.view(a*b, c*d)\n",
    "    G = torch.mm(features, features.t()) # 计算内积\n",
    "    # 对格拉姆矩阵标准化\n",
    "    # 通过对其除以特征图像素总数\n",
    "    return G.div(a*b*c*d)"
   ]
  },
  {
   "cell_type": "code",
   "execution_count": null,
   "metadata": {},
   "outputs": [],
   "source": [
    "# （2）计算风格损失\n",
    "class StyleLoss(nn.Module):\n",
    "    def __init__(self, target_features):\n",
    "        super(StyleLoss, self).__init__()\n",
    "        self.target = gram_matrix(target_feature).detach()\n",
    "    def forward(self, input):\n",
    "        G = gram_matrix(input)\n",
    "        self.loss = F.mse_loss(G, self.target)\n",
    "        return input"
   ]
  },
  {
   "cell_type": "code",
   "execution_count": null,
   "metadata": {},
   "outputs": [],
   "source": [
    "# (3)在多个卷积层的累加\n",
    "style_layers = ['conv_1', 'conv_2', 'conv_3', 'conv_4', 'conv_5']\n",
    "if name in style_layers:\n",
    "    # 累加风格损失\n",
    "    target_feature = model(style_img).detach()\n",
    "    style_loss = StyleLoss(target_feature)\n",
    "    model.add_module(\"style_loss_{}\".format(i), style_loss)\n",
    "    style_losses.append(style_loss)"
   ]
  },
  {
   "cell_type": "code",
   "execution_count": null,
   "metadata": {},
   "outputs": [],
   "source": [
    "# (4)总损失\n",
    "# 在计算总的损失值时，对内容损失和风格损失是有侧重的，即需要对各自损失值加上权重\n",
    "for sl in style_losses:\n",
    "    style_score += sl.loss\n",
    "    for cl in content_losses:\n",
    "        content_score += cl.loss\n",
    "    style_score *= style_weight\n",
    "    content_score *= content_weight\n",
    "    loss = style_score + content_score"
   ]
  },
  {
   "cell_type": "code",
   "execution_count": null,
   "metadata": {},
   "outputs": [],
   "source": [
    "# 12.2.3 用PyTorch实现神经网络风格迁移\n"
   ]
  },
  {
   "cell_type": "code",
   "execution_count": null,
   "metadata": {},
   "outputs": [],
   "source": []
  },
  {
   "cell_type": "code",
   "execution_count": null,
   "metadata": {},
   "outputs": [],
   "source": []
  }
 ],
 "metadata": {
  "kernelspec": {
   "display_name": "Python 3",
   "language": "python",
   "name": "python3"
  },
  "language_info": {
   "codemirror_mode": {
    "name": "ipython",
    "version": 3
   },
   "file_extension": ".py",
   "mimetype": "text/x-python",
   "name": "python",
   "nbconvert_exporter": "python",
   "pygments_lexer": "ipython3",
   "version": "3.7.6"
  }
 },
 "nbformat": 4,
 "nbformat_minor": 4
}
