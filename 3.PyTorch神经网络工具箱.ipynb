{
 "cells": [
  {
   "cell_type": "code",
   "execution_count": 1,
   "metadata": {},
   "outputs": [],
   "source": [
    "import numpy as np\n",
    "import torch\n",
    "# 导入PyTorch内置的mnist数据集\n",
    "from torchvision.datasets import mnist\n",
    "# 导入预处理模块\n",
    "import torchvision.transforms as transforms\n",
    "from torch.utils.data import DataLoader\n",
    "# 导入nn及优化器\n",
    "import torch.nn.functional as F\n",
    "import torch.optim as optim\n",
    "from torch import nn"
   ]
  },
  {
   "cell_type": "code",
   "execution_count": 2,
   "metadata": {},
   "outputs": [],
   "source": [
    "# 定义超参数\n",
    "train_batch_size = 64\n",
    "test_batch_size = 128\n",
    "learning_rate = 0.01\n",
    "num_epoches = 20\n",
    "lr = 0.01\n",
    "momentum = 0.5"
   ]
  },
  {
   "cell_type": "code",
   "execution_count": 3,
   "metadata": {},
   "outputs": [],
   "source": [
    "# 3.下载数据并对数据进行预处理\n",
    "# 定义预处理函数，这些预处理一次存放在Compose函数中\n",
    "transform = transforms.Compose([transforms.ToTensor(),transforms.Normalize([0.5],[0.5])])\n",
    "# 下载数据，并对数据进行预处理\n",
    "train_dataset = mnist.MNIST('./data', train=True,transform=transform,download=True)\n",
    "test_dataset = mnist.MNIST('./data',train=False,transform=transform)\n",
    "# dataloader是一个可迭代对象，可以像使用迭代器一样使用\n",
    "train_loader = DataLoader(train_dataset, batch_size=train_batch_size,shuffle=True)\n",
    "test_loader = DataLoader(test_dataset,batch_size=test_batch_size,shuffle=False)"
   ]
  },
  {
   "cell_type": "code",
   "execution_count": 4,
   "metadata": {},
   "outputs": [
    {
     "data": {
      "image/png": "[encoded data removed]",
      "text/plain": [
       "<Figure size 432x288 with 6 Axes>"
      ]
     },
     "metadata": {
      "needs_background": "light"
     },
     "output_type": "display_data"
    }
   ],
   "source": [
    "# 3.2.3 可视化源数据\n",
    "import matplotlib.pyplot as plt\n",
    "%matplotlib inline\n",
    "examples = enumerate(test_loader)\n",
    "batch_idx, (example_data,example_targets) = next(examples)\n",
    "fig = plt.figure()\n",
    "for i in range(6):\n",
    "    plt.subplot(2,3,i+1)\n",
    "    plt.tight_layout()\n",
    "    plt.imshow(example_data[i][0],cmap='gray',interpolation='none')\n",
    "    plt.title('Ground Truth: {}'.format(example_targets[i]))\n",
    "    plt.xticks([])\n",
    "    plt.xticks([])"
   ]
  },
  {
   "cell_type": "code",
   "execution_count": 5,
   "metadata": {},
   "outputs": [],
   "source": [
    "# 3.2.4 构建模型\n",
    "# （1）构建网络\n",
    "class Net(nn.Module):\n",
    "    \"\"\"\n",
    "    使用sequential构建网络，Sequential()函数功能是将网络层组合到一起\n",
    "    \"\"\"\n",
    "    def __init__(self, in_dim, n_hidden_1, n_hidden_2, out_dim):\n",
    "        super(Net, self).__init__()\n",
    "        self.layer1 = nn.Sequential(nn.Linear(in_dim, n_hidden_1), nn.BatchNorm1d(n_hidden_1))\n",
    "        self.layer2 = nn.Sequential(nn.Linear(n_hidden_1, n_hidden_2), nn.BatchNorm1d(n_hidden_2))\n",
    "        self.layer3 = nn.Sequential(nn.Linear(n_hidden_2, out_dim))\n",
    "    \n",
    "    def forward(self, x):\n",
    "        x = F.relu(self.layer1(x))\n",
    "        x = F.relu(self.layer2(x))\n",
    "        x = self.layer3(x)\n",
    "        return x"
   ]
  },
  {
   "cell_type": "code",
   "execution_count": 6,
   "metadata": {},
   "outputs": [],
   "source": [
    "# (2)实例化gpu\n",
    "# 检测是否有可用的gpu，有则使用，否则使用cpu\n",
    "device = torch.device(\"cuda:0\" if torch.cuda.is_available() else \"cpu\")\n",
    "# 实例化网络\n",
    "model = Net(28*28, 300, 100, 10)\n",
    "model.to(device)\n",
    "# 定义损失函数和优化器\n",
    "criterion = nn.CrossEntropyLoss()\n",
    "optimizer = optim.SGD(model.parameters(), lr=lr, momentum=momentum)"
   ]
  },
  {
   "cell_type": "code",
   "execution_count": null,
   "metadata": {},
   "outputs": [],
   "source": []
  },
  {
   "cell_type": "code",
   "execution_count": 7,
   "metadata": {},
   "outputs": [
    {
     "name": "stdout",
     "output_type": "stream",
     "text": [
      "epoch: 0, Train Loss: 1.0201, Train Acc: 0.7857, Test Loss: 0.5457,            Test Acc: 0.9009\n",
      "epoch: 1, Train Loss: 0.4812, Train Acc: 0.8998, Test Loss: 0.3520,            Test Acc: 0.9260\n",
      "epoch: 2, Train Loss: 0.3506, Train Acc: 0.9203, Test Loss: 0.2757,            Test Acc: 0.9381\n",
      "epoch: 3, Train Loss: 0.2854, Train Acc: 0.9315, Test Loss: 0.2259,            Test Acc: 0.9459\n",
      "epoch: 4, Train Loss: 0.2430, Train Acc: 0.9401, Test Loss: 0.1967,            Test Acc: 0.9512\n",
      "epoch: 5, Train Loss: 0.2235, Train Acc: 0.9449, Test Loss: 0.1973,            Test Acc: 0.9524\n",
      "epoch: 6, Train Loss: 0.2191, Train Acc: 0.9460, Test Loss: 0.1921,            Test Acc: 0.9528\n",
      "epoch: 7, Train Loss: 0.2166, Train Acc: 0.9465, Test Loss: 0.1908,            Test Acc: 0.9532\n",
      "epoch: 8, Train Loss: 0.2152, Train Acc: 0.9471, Test Loss: 0.1871,            Test Acc: 0.9531\n",
      "epoch: 9, Train Loss: 0.2118, Train Acc: 0.9476, Test Loss: 0.1874,            Test Acc: 0.9545\n",
      "epoch: 10, Train Loss: 0.2109, Train Acc: 0.9480, Test Loss: 0.1853,            Test Acc: 0.9544\n",
      "epoch: 11, Train Loss: 0.2112, Train Acc: 0.9475, Test Loss: 0.1849,            Test Acc: 0.9534\n",
      "epoch: 12, Train Loss: 0.2091, Train Acc: 0.9483, Test Loss: 0.1855,            Test Acc: 0.9544\n",
      "epoch: 13, Train Loss: 0.2103, Train Acc: 0.9482, Test Loss: 0.1852,            Test Acc: 0.9539\n",
      "epoch: 14, Train Loss: 0.2093, Train Acc: 0.9481, Test Loss: 0.1844,            Test Acc: 0.9547\n",
      "epoch: 15, Train Loss: 0.2099, Train Acc: 0.9482, Test Loss: 0.1840,            Test Acc: 0.9547\n",
      "epoch: 16, Train Loss: 0.2087, Train Acc: 0.9482, Test Loss: 0.1843,            Test Acc: 0.9543\n",
      "epoch: 17, Train Loss: 0.2100, Train Acc: 0.9483, Test Loss: 0.1847,            Test Acc: 0.9539\n",
      "epoch: 18, Train Loss: 0.2081, Train Acc: 0.9493, Test Loss: 0.1846,            Test Acc: 0.9555\n",
      "epoch: 19, Train Loss: 0.2081, Train Acc: 0.9477, Test Loss: 0.1837,            Test Acc: 0.9554\n"
     ]
    }
   ],
   "source": [
    "# 3.2.5训练模型\n",
    "# 1.训练模型\n",
    "# 开始训练\n",
    "losses = []\n",
    "acces = []\n",
    "eval_losses = []\n",
    "eval_acces = []\n",
    "for epoch in range(num_epoches):\n",
    "    train_loss = 0\n",
    "    train_acc = 0\n",
    "    model.train()\n",
    "    # 动态修改参数学习率\n",
    "    if epoch%5 == 0:\n",
    "        optimizer.param_groups[0]['lr']*=0.1\n",
    "    for img, label in train_loader:\n",
    "        img = img.to(device)\n",
    "        label = label.to(device)\n",
    "        img = img.view(img.size(0),-1)\n",
    "        # 前向计算\n",
    "        out = model(img)\n",
    "        loss = criterion(out, label)\n",
    "        # 反向传播\n",
    "        optimizer.zero_grad()\n",
    "        loss.backward()\n",
    "        optimizer.step()\n",
    "        # 记录误差\n",
    "        train_loss += loss.item()\n",
    "        # 计算分类的准确率\n",
    "        _, pred = out.max(1)\n",
    "        num_correct = (pred == label).sum().item()\n",
    "        acc = num_correct / img.shape[0]\n",
    "        train_acc += acc\n",
    "    losses.append(train_loss / len(train_loader))\n",
    "    acces.append(train_acc / len(train_loader))\n",
    "    # 在测试集上校验结果\n",
    "    eval_loss = 0\n",
    "    eval_acc = 0\n",
    "    # 将模型改为预测模型\n",
    "    model.eval()\n",
    "    for img, label in test_loader:\n",
    "        img = img.to(device)\n",
    "        label = label.to(device)\n",
    "        img = img.view(img.size(0), -1)\n",
    "        out = model(img)\n",
    "        loss = criterion(out, label)\n",
    "        # 记录误差\n",
    "        eval_loss += loss.item()\n",
    "        # 记录准确率\n",
    "        _, pred = out.max(1)\n",
    "        num_correct = (pred == label).sum().item()\n",
    "        acc = num_correct / img.shape[0]\n",
    "        eval_acc += acc\n",
    "    eval_losses.append(eval_loss / len(test_loader))\n",
    "    eval_losses.append(eval_acc / len(test_loader))\n",
    "    print('epoch: {}, Train Loss: {:.4f}, Train Acc: {:.4f}, Test Loss: {:.4f}, \\\n",
    "           Test Acc: {:.4f}'.format(epoch, train_loss/len(train_loader), train_acc/len(train_loader),\n",
    "                                    eval_loss/len(test_loader), eval_acc/len(test_loader)))\n"
   ]
  },
  {
   "cell_type": "code",
   "execution_count": 9,
   "metadata": {},
   "outputs": [
    {
     "data": {
      "text/plain": [
       "[<matplotlib.lines.Line2D at 0x7fb2b337add0>]"
      ]
     },
     "execution_count": 9,
     "metadata": {},
     "output_type": "execute_result"
    },
    {
     "data": {
      "image/png": "[encoded data removed]",
      "text/plain": [
       "<Figure size 432x288 with 1 Axes>"
      ]
     },
     "metadata": {
      "needs_background": "light"
     },
     "output_type": "display_data"
    }
   ],
   "source": [
    "plt.title('trainloss')\n",
    "plt.plot(np.arange(len(losses)), losses)\n",
    "plt.legend(['Train Loss'])"
   ]
  },
  {
   "cell_type": "code",
   "execution_count": 2,
   "metadata": {},
   "outputs": [],
   "source": [
    "# 3.3构建神经网络\n",
    "# 在Sequential基础上，通过字典的形式添加每一层，并且设置单独的层名称。\n",
    "# 以下是采用字典方式构建网络的一个示例代码\n",
    "# 3.3.1 构建网络层\n",
    "import torch\n",
    "class Net(torch.nn.Module):\n",
    "    def __init__(self):\n",
    "        super(Net4,self).__init__()\n",
    "        self.conv = torch.nn.Sequential(\n",
    "            OrderedDict(\n",
    "                [(\"conv1\", torch.nn.Conv2d(3,32,3,1,1)),\n",
    "                 (\"relu1\", torch.nn.ReLU()),\n",
    "                 (\"pool\", torch.nn.MaxPool2d(2))]\n",
    "            ))\n",
    "        self.dense = torch.nn.Sequential(\n",
    "            OrderedDict(\n",
    "                [(\"dense1\", torch.nn.Linear(32*3*3,128)),\n",
    "                 (\"relu2\", torch.nn.ReLU()),\n",
    "                 (\"dense2\", torch.nn.Linear(128,10))]\n",
    "            ))\n",
    "        "
   ]
  },
  {
   "cell_type": "code",
   "execution_count": 3,
   "metadata": {},
   "outputs": [],
   "source": [
    "# 在forward函数中，有些层来自nn.Module，也可以使用nn.functional定义。\n",
    "# 来自nn.Module的需要实例化，而使用nn.functional定义的可以直接使用\n",
    "# 3.3.3 反向传播\n",
    "# 3.3.4 训练模型"
   ]
  },
  {
   "cell_type": "code",
   "execution_count": 4,
   "metadata": {},
   "outputs": [
    {
     "ename": "NameError",
     "evalue": "name 'model' is not defined",
     "output_type": "error",
     "traceback": [
      "\u001b[0;31m---------------------------------------------------------------------------\u001b[0m",
      "\u001b[0;31mNameError\u001b[0m                                 Traceback (most recent call last)",
      "\u001b[0;32m<ipython-input-4-aa6415575c8b>\u001b[0m in \u001b[0;36m<module>\u001b[0;34m\u001b[0m\n\u001b[1;32m      2\u001b[0m \u001b[0;31m#（1）建立优化器实例\u001b[0m\u001b[0;34m\u001b[0m\u001b[0;34m\u001b[0m\u001b[0;34m\u001b[0m\u001b[0m\n\u001b[1;32m      3\u001b[0m \u001b[0;32mimport\u001b[0m \u001b[0mtorch\u001b[0m\u001b[0;34m.\u001b[0m\u001b[0moptim\u001b[0m \u001b[0;32mas\u001b[0m \u001b[0moptim\u001b[0m\u001b[0;34m\u001b[0m\u001b[0;34m\u001b[0m\u001b[0m\n\u001b[0;32m----> 4\u001b[0;31m \u001b[0moptimizer\u001b[0m \u001b[0;34m=\u001b[0m \u001b[0moptim\u001b[0m\u001b[0;34m.\u001b[0m\u001b[0mSGD\u001b[0m\u001b[0;34m(\u001b[0m\u001b[0mmodel\u001b[0m\u001b[0;34m.\u001b[0m\u001b[0mparameters\u001b[0m\u001b[0;34m(\u001b[0m\u001b[0;34m)\u001b[0m\u001b[0;34m,\u001b[0m \u001b[0mlr\u001b[0m\u001b[0;34m=\u001b[0m\u001b[0mlr\u001b[0m\u001b[0;34m,\u001b[0m \u001b[0mmomentum\u001b[0m\u001b[0;34m=\u001b[0m\u001b[0mmomentum\u001b[0m\u001b[0;34m)\u001b[0m\u001b[0;34m\u001b[0m\u001b[0;34m\u001b[0m\u001b[0m\n\u001b[0m",
      "\u001b[0;31mNameError\u001b[0m: name 'model' is not defined"
     ]
    }
   ],
   "source": [
    "# 3.5优化器\n",
    "#（1）建立优化器实例\n",
    "import torch.optim as optim\n",
    "optimizer = optim.SGD(model.parameters(), lr=lr, momentum=momentum)"
   ]
  },
  {
   "cell_type": "code",
   "execution_count": 5,
   "metadata": {},
   "outputs": [
    {
     "ename": "NameError",
     "evalue": "name 'model' is not defined",
     "output_type": "error",
     "traceback": [
      "\u001b[0;31m---------------------------------------------------------------------------\u001b[0m",
      "\u001b[0;31mNameError\u001b[0m                                 Traceback (most recent call last)",
      "\u001b[0;32m<ipython-input-5-4eec544f0761>\u001b[0m in \u001b[0;36m<module>\u001b[0;34m\u001b[0m\n\u001b[1;32m      1\u001b[0m \u001b[0;31m# (2)前向传播\u001b[0m\u001b[0;34m\u001b[0m\u001b[0;34m\u001b[0m\u001b[0;34m\u001b[0m\u001b[0m\n\u001b[0;32m----> 2\u001b[0;31m \u001b[0mout\u001b[0m \u001b[0;34m=\u001b[0m \u001b[0mmodel\u001b[0m\u001b[0;34m(\u001b[0m\u001b[0mimg\u001b[0m\u001b[0;34m)\u001b[0m\u001b[0;34m\u001b[0m\u001b[0;34m\u001b[0m\u001b[0m\n\u001b[0m\u001b[1;32m      3\u001b[0m \u001b[0mloss\u001b[0m \u001b[0;34m=\u001b[0m \u001b[0mcriterion\u001b[0m\u001b[0;34m(\u001b[0m\u001b[0mout\u001b[0m\u001b[0;34m,\u001b[0m \u001b[0mlabel\u001b[0m\u001b[0;34m)\u001b[0m\u001b[0;34m\u001b[0m\u001b[0;34m\u001b[0m\u001b[0m\n",
      "\u001b[0;31mNameError\u001b[0m: name 'model' is not defined"
     ]
    }
   ],
   "source": [
    "# (2)前向传播\n",
    "out = model(img)\n",
    "loss = criterion(out, label)"
   ]
  },
  {
   "cell_type": "code",
   "execution_count": 6,
   "metadata": {},
   "outputs": [
    {
     "ename": "NameError",
     "evalue": "name 'optimizer' is not defined",
     "output_type": "error",
     "traceback": [
      "\u001b[0;31m---------------------------------------------------------------------------\u001b[0m",
      "\u001b[0;31mNameError\u001b[0m                                 Traceback (most recent call last)",
      "\u001b[0;32m<ipython-input-6-00994bc50727>\u001b[0m in \u001b[0;36m<module>\u001b[0;34m\u001b[0m\n\u001b[1;32m      1\u001b[0m \u001b[0;31m# (3)清空梯度\u001b[0m\u001b[0;34m\u001b[0m\u001b[0;34m\u001b[0m\u001b[0;34m\u001b[0m\u001b[0m\n\u001b[0;32m----> 2\u001b[0;31m \u001b[0moptimizer\u001b[0m\u001b[0;34m.\u001b[0m\u001b[0mzero_grad\u001b[0m\u001b[0;34m(\u001b[0m\u001b[0;34m)\u001b[0m\u001b[0;34m\u001b[0m\u001b[0;34m\u001b[0m\u001b[0m\n\u001b[0m\u001b[1;32m      3\u001b[0m \u001b[0;31m# (4)反向传播\u001b[0m\u001b[0;34m\u001b[0m\u001b[0;34m\u001b[0m\u001b[0;34m\u001b[0m\u001b[0m\n\u001b[1;32m      4\u001b[0m \u001b[0mloss\u001b[0m\u001b[0;34m.\u001b[0m\u001b[0mbackward\u001b[0m\u001b[0;34m(\u001b[0m\u001b[0;34m)\u001b[0m\u001b[0;34m\u001b[0m\u001b[0;34m\u001b[0m\u001b[0m\n\u001b[1;32m      5\u001b[0m \u001b[0;31m# (5)更新参数\u001b[0m\u001b[0;34m\u001b[0m\u001b[0;34m\u001b[0m\u001b[0;34m\u001b[0m\u001b[0m\n",
      "\u001b[0;31mNameError\u001b[0m: name 'optimizer' is not defined"
     ]
    }
   ],
   "source": [
    "# (3)清空梯度\n",
    "optimizer.zero_grad()\n",
    "# (4)反向传播\n",
    "loss.backward()\n",
    "# (5)更新参数\n",
    "optimizer.step()"
   ]
  },
  {
   "cell_type": "code",
   "execution_count": 7,
   "metadata": {},
   "outputs": [],
   "source": [
    "# 3.6 动态修改学习率参数\n",
    "# 3.2节中动态修改学习率参数"
   ]
  },
  {
   "cell_type": "code",
   "execution_count": 9,
   "metadata": {},
   "outputs": [],
   "source": [
    "# 3.7 优化器比较\n",
    "# (1)导入需要的模块\n",
    "import torch\n",
    "import torch.utils.data as Data\n",
    "import torch.nn.functional as F\n",
    "import matplotlib.pyplot as plt\n",
    "%matplotlib inline\n",
    "# 超参数\n",
    "LR = 0.01\n",
    "BATCH_SIZE = 32\n",
    "EPOCH = 12"
   ]
  },
  {
   "cell_type": "code",
   "execution_count": 10,
   "metadata": {},
   "outputs": [],
   "source": [
    "# （2）生成数据\n",
    "# 生成训练数据\n",
    "# torch.unsqueeze() 将一维变为二维 \n",
    "x = torch.unsqueeze(torch.linspace(-1,1,1000), dim=1)\n",
    "# 增加噪声\n",
    "y = x.pow(2) + 0.1*torch.normal(torch.zeros(*x.size()))\n",
    "torch_dataset = Data.TensorDataset(x,y)\n",
    "# 得到一个带批量的生成器\n",
    "loader = Data.DataLoader(dataset=torch_dataset, batch_size=BATCH_SIZE, shuffle=True)"
   ]
  },
  {
   "cell_type": "code",
   "execution_count": 12,
   "metadata": {},
   "outputs": [],
   "source": [
    "# (3)构建神经网络\n",
    "class Net(torch.nn.Module):\n",
    "    # 初始化\n",
    "    def __init__(self):\n",
    "        super(Net, self).__init__()\n",
    "        self.hidden = torch.nn.Linear(1,20)\n",
    "        self.predict = torch.nn.Linear(20,1)\n",
    "    # 前向传播\n",
    "    def forward(self, x):\n",
    "        x = F.relu(self.hidden(x))\n",
    "        x = self.predict(x)\n",
    "        return x"
   ]
  },
  {
   "cell_type": "code",
   "execution_count": 13,
   "metadata": {},
   "outputs": [],
   "source": [
    "# (4)使用多种优化器\n",
    "net_SGD = Net()\n",
    "net_Momentum = Net()\n",
    "net_RMSProp = Net()\n",
    "net_Adam = Net()\n",
    "nets = [net_SGD, net_Momentum, net_RMSProp, net_Adam]\n",
    "opt_SGD = torch.optim.SGD(net_SGD.parameters(), lr=LR)\n",
    "opt_Momentum = torch.optim.SGD(net_Momentum.parameters(), lr=LR, momentum=0.9)\n",
    "opt_RMSProp = torch.optim.RMSprop(net_RMSProp.parameters(), lr=LR, alpha=0.9)\n",
    "opt_Adam = torch.optim.Adam(net_Adam.parameters(), lr=LR, betas=(0.9,0.99))\n",
    "optimizers = [opt_SGD, opt_Momentum, opt_RMSProp, opt_Adam]"
   ]
  },
  {
   "cell_type": "code",
   "execution_count": 14,
   "metadata": {},
   "outputs": [],
   "source": [
    "# (5)训练模型\n",
    "loss_func = torch.nn.MSELoss()\n",
    "loss_his = [[],[],[],[]] # 记录损失\n",
    "for epoch in range(EPOCH):\n",
    "    for step, (batch_x, batch_y) in enumerate(loader):\n",
    "        for net, opt, l_his in zip(nets, optimizers, loss_his):\n",
    "            output = net(batch_x) # 得到每一个网络的输出\n",
    "            loss = loss_func(output, batch_y) # 计算每一个网络的损失\n",
    "            opt.zero_grad() # 为下次训练将梯度清零\n",
    "            loss.backward() # 反向传播， 计算梯度\n",
    "            opt.step() # 更新参数\n",
    "            l_his.append(loss.data.numpy()) # 记录损失\n",
    "labels = ['SGD', 'Momentum', 'RMSprop', 'Adam']"
   ]
  },
  {
   "cell_type": "code",
   "execution_count": 16,
   "metadata": {},
   "outputs": [
    {
     "data": {
      "image/png": "[encoded data removed]",
      "text/plain": [
       "<Figure size 432x288 with 1 Axes>"
      ]
     },
     "metadata": {
      "needs_background": "light"
     },
     "output_type": "display_data"
    }
   ],
   "source": [
    "# (6)可视化结果\n",
    "for i, l_his in enumerate(loss_his):\n",
    "    plt.plot(l_his, label = labels[i])\n",
    "plt.legend(loc='best')\n",
    "plt.xlabel('Steps')\n",
    "plt.ylabel('Loss')\n",
    "plt.ylim((0,0.2))\n",
    "plt.show()"
   ]
  },
  {
   "cell_type": "code",
   "execution_count": null,
   "metadata": {},
   "outputs": [],
   "source": []
  }
 ],
 "metadata": {
  "kernelspec": {
   "display_name": "Python 3",
   "language": "python",
   "name": "python3"
  },
  "language_info": {
   "codemirror_mode": {
    "name": "ipython",
    "version": 3
   },
   "file_extension": ".py",
   "mimetype": "text/x-python",
   "name": "python",
   "nbconvert_exporter": "python",
   "pygments_lexer": "ipython3",
   "version": "3.7.6"
  }
 },
 "nbformat": 4,
 "nbformat_minor": 4
}
